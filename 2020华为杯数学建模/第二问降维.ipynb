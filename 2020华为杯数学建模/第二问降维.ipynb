{
 "cells": [
  {
   "cell_type": "code",
   "execution_count": 1,
   "metadata": {},
   "outputs": [],
   "source": [
    "import numpy as np\n",
    "import pandas as pd\n",
    "import matplotlib.pyplot as plt\n",
    "import seaborn as sns"
   ]
  },
  {
   "cell_type": "code",
   "execution_count": 2,
   "metadata": {},
   "outputs": [],
   "source": [
    "#读取文件并按时间顺序重新排序\n",
    "data=pd.read_excel('/Users/zhongrunping/Desktop/jupyter文件夹/数学建模/253个样本(已经预处理过).xlsx'\n",
    "                  ,na_values='Nan')[::-1].iloc[:,2:]\n",
    "data.columns=data.iloc[-1,:]\n",
    "data=data[:-1].reset_index(drop=True)"
   ]
  },
  {
   "cell_type": "code",
   "execution_count": 3,
   "metadata": {},
   "outputs": [],
   "source": [
    "data=data.iloc[:,1:]"
   ]
  },
  {
   "cell_type": "code",
   "execution_count": 4,
   "metadata": {},
   "outputs": [
    {
     "data": {
      "text/plain": [
       "0\n",
       "S-ZORB.AT_5201.PV        1\n",
       "S-ZORB.SIS_LT_1001.PV    2\n",
       "S-ZORB.AI_2903.PV        2\n",
       "S-ZORB.FT_1202.TOTAL     2\n",
       "S-ZORB.FT_1204.TOTAL     2\n",
       "dtype: int64"
      ]
     },
     "execution_count": 4,
     "metadata": {},
     "output_type": "execute_result"
    }
   ],
   "source": [
    "#查看缺失值\n",
    "data.isnull().sum()[data.isnull().sum()>0]"
   ]
  },
  {
   "cell_type": "code",
   "execution_count": 5,
   "metadata": {},
   "outputs": [
    {
     "data": {
      "text/plain": [
       "Series([], dtype: int64)"
      ]
     },
     "execution_count": 5,
     "metadata": {},
     "output_type": "execute_result"
    }
   ],
   "source": [
    "#缺失值 向前填充\n",
    "data=data.fillna(method='ffill')\n",
    "data.isnull().sum()[data.isnull().sum()>0]  #没有缺失值"
   ]
  },
  {
   "cell_type": "code",
   "execution_count": 6,
   "metadata": {},
   "outputs": [
    {
     "data": {
      "text/html": [
       "<div>\n",
       "<style scoped>\n",
       "    .dataframe tbody tr th:only-of-type {\n",
       "        vertical-align: middle;\n",
       "    }\n",
       "\n",
       "    .dataframe tbody tr th {\n",
       "        vertical-align: top;\n",
       "    }\n",
       "\n",
       "    .dataframe thead th {\n",
       "        text-align: right;\n",
       "    }\n",
       "</style>\n",
       "<table border=\"1\" class=\"dataframe\">\n",
       "  <thead>\n",
       "    <tr style=\"text-align: right;\">\n",
       "      <th></th>\n",
       "      <th>位号</th>\n",
       "      <th>最小值</th>\n",
       "      <th>最大值</th>\n",
       "    </tr>\n",
       "  </thead>\n",
       "  <tbody>\n",
       "    <tr>\n",
       "      <th>0</th>\n",
       "      <td>S-ZORB.CAL_H2.PV</td>\n",
       "      <td>0.20</td>\n",
       "      <td>0.37</td>\n",
       "    </tr>\n",
       "    <tr>\n",
       "      <th>1</th>\n",
       "      <td>S-ZORB.PDI_2102.PV</td>\n",
       "      <td>10.00</td>\n",
       "      <td>35.00</td>\n",
       "    </tr>\n",
       "    <tr>\n",
       "      <th>2</th>\n",
       "      <td>S-ZORB.PT_2801.PV</td>\n",
       "      <td>2.35</td>\n",
       "      <td>2.70</td>\n",
       "    </tr>\n",
       "    <tr>\n",
       "      <th>3</th>\n",
       "      <td>S-ZORB.FC_2801.PV</td>\n",
       "      <td>600.00</td>\n",
       "      <td>1000.00</td>\n",
       "    </tr>\n",
       "    <tr>\n",
       "      <th>4</th>\n",
       "      <td>S-ZORB.TE_2103.PV</td>\n",
       "      <td>410.00</td>\n",
       "      <td>435.00</td>\n",
       "    </tr>\n",
       "  </tbody>\n",
       "</table>\n",
       "</div>"
      ],
      "text/plain": [
       "                   位号     最小值      最大值\n",
       "0    S-ZORB.CAL_H2.PV    0.20     0.37\n",
       "1  S-ZORB.PDI_2102.PV   10.00    35.00\n",
       "2   S-ZORB.PT_2801.PV    2.35     2.70\n",
       "3   S-ZORB.FC_2801.PV  600.00  1000.00\n",
       "4   S-ZORB.TE_2103.PV  410.00   435.00"
      ]
     },
     "execution_count": 6,
     "metadata": {},
     "output_type": "execute_result"
    }
   ],
   "source": [
    "interval=pd.read_excel('/Users/zhongrunping/Desktop/jupyter文件夹/数学建模/各变量的最大最小值.xlsx')\n",
    "interval.head()"
   ]
  },
  {
   "cell_type": "code",
   "execution_count": 7,
   "metadata": {},
   "outputs": [],
   "source": [
    "#获取变量的取值范围\n",
    "def get_column_range(column):\n",
    "    index=interval['位号'][interval['位号']==column].index[0]\n",
    "    maximum=interval['最大值'][index]\n",
    "    minimum=interval['最小值'][index]\n",
    "    return minimum,maximum  #返回最大最小值"
   ]
  },
  {
   "cell_type": "code",
   "execution_count": 8,
   "metadata": {},
   "outputs": [
    {
     "data": {
      "text/plain": [
       "0\n",
       "S-ZORB.AT_5201.PV         147\n",
       "S-ZORB.SIS_LT_1001.PV     325\n",
       "S-ZORB.AI_2903.PV         315\n",
       "S-ZORB.FT_1202.TOTAL      165\n",
       "S-ZORB.FT_1204.TOTAL      137\n",
       "S-ZORB.TE_2001.DACA         1\n",
       "S-ZORB.AT-0012.DACA.PV      9\n",
       "S-ZORB.CAL.LEVEL.PV         1\n",
       "dtype: int64"
      ]
     },
     "execution_count": 8,
     "metadata": {},
     "output_type": "execute_result"
    }
   ],
   "source": [
    "  #将超出范围的值设置为空\n",
    "for column in data.columns[13:]:\n",
    "    a,b=get_column_range(column)\n",
    "    data[column]=data[column].apply(lambda x:np.nan if x<a or x>b else x)\n",
    "#查看缺失值\n",
    "data.isnull().sum()[data.isnull().sum()>0] "
   ]
  },
  {
   "cell_type": "code",
   "execution_count": 9,
   "metadata": {},
   "outputs": [
    {
     "data": {
      "text/plain": [
       "0\n",
       "S-ZORB.AT_5201.PV         0.452308\n",
       "S-ZORB.SIS_LT_1001.PV     1.000000\n",
       "S-ZORB.AI_2903.PV         0.969231\n",
       "S-ZORB.FT_1202.TOTAL      0.507692\n",
       "S-ZORB.FT_1204.TOTAL      0.421538\n",
       "S-ZORB.TE_2001.DACA       0.003077\n",
       "S-ZORB.AT-0012.DACA.PV    0.027692\n",
       "S-ZORB.CAL.LEVEL.PV       0.003077\n",
       "dtype: float64"
      ]
     },
     "execution_count": 9,
     "metadata": {},
     "output_type": "execute_result"
    }
   ],
   "source": [
    "#查看缺失值比率\n",
    "data.isnull().sum()[data.isnull().sum()>0]/len(data)"
   ]
  },
  {
   "cell_type": "code",
   "execution_count": 10,
   "metadata": {},
   "outputs": [],
   "source": [
    "#将缺失值比率大于70%的变量去除\n",
    "data=data.drop(['S-ZORB.SIS_LT_1001.PV','S-ZORB.AI_2903.PV'],axis=1)"
   ]
  },
  {
   "cell_type": "code",
   "execution_count": 11,
   "metadata": {},
   "outputs": [
    {
     "data": {
      "text/plain": [
       "0\n",
       "S-ZORB.AT_5201.PV         0.452308\n",
       "S-ZORB.FT_1202.TOTAL      0.507692\n",
       "S-ZORB.FT_1204.TOTAL      0.421538\n",
       "S-ZORB.TE_2001.DACA       0.003077\n",
       "S-ZORB.AT-0012.DACA.PV    0.027692\n",
       "S-ZORB.CAL.LEVEL.PV       0.003077\n",
       "dtype: float64"
      ]
     },
     "execution_count": 11,
     "metadata": {},
     "output_type": "execute_result"
    }
   ],
   "source": [
    "#查看缺失值比率\n",
    "data.isnull().sum()[data.isnull().sum()>0]/len(data)"
   ]
  },
  {
   "cell_type": "code",
   "execution_count": 12,
   "metadata": {},
   "outputs": [
    {
     "data": {
      "text/plain": [
       "Series([], dtype: float64)"
      ]
     },
     "execution_count": 12,
     "metadata": {},
     "output_type": "execute_result"
    }
   ],
   "source": [
    "#缺失值使用均值填充\n",
    "for i in data.isnull().sum()[data.isnull().sum()>0].index:\n",
    "    data[i]=data[i].fillna(data[i].mean())\n",
    "#查看缺失值比率\n",
    "data.isnull().sum()[data.isnull().sum()>0]/len(data)\n",
    "#没有缺失值"
   ]
  },
  {
   "cell_type": "code",
   "execution_count": 14,
   "metadata": {},
   "outputs": [
    {
     "data": {
      "text/plain": [
       "Series([], dtype: int64)"
      ]
     },
     "execution_count": 14,
     "metadata": {},
     "output_type": "execute_result"
    }
   ],
   "source": [
    "#将异常值设置为空值 3sigma\n",
    "def repalce_abnormal(df):\n",
    "    mean=df.mean()\n",
    "    std=df.std()\n",
    "    df=df.apply(lambda x:np.nan if x<mean-3*std or x>mean+3*std else x)\n",
    "for i in data.columns:\n",
    "    repalce_abnormal(data[i])\n",
    "#查看缺失值\n",
    "data.isnull().sum()[data.isnull().sum()>0]\n",
    "#无异常值"
   ]
  },
  {
   "cell_type": "code",
   "execution_count": 15,
   "metadata": {},
   "outputs": [],
   "source": [
    "#data.to_excel('253个样本(处理后,无异常无缺失).xlsx')"
   ]
  },
  {
   "cell_type": "code",
   "execution_count": 16,
   "metadata": {},
   "outputs": [],
   "source": [
    "#作最大最小值变换 将变量值转换在[0,1]之间\n",
    "data=data.apply(lambda x:(x-x.mean())/(x.max()-x.mean()))"
   ]
  },
  {
   "cell_type": "code",
   "execution_count": 17,
   "metadata": {},
   "outputs": [
    {
     "data": {
      "text/plain": [
       "0\n",
       "S-ZORB.FT_1202.TOTAL           0.027939\n",
       "S-ZORB.AC_6001.PV              0.058750\n",
       "S-ZORB.LT_1002.DACA            0.060870\n",
       "S-ZORB.PC_2601.PV              0.071215\n",
       "S-ZORB.FT_9101.PV              0.076172\n",
       "S-ZORB.BS_AT_2401.PV           0.076461\n",
       "S-ZORB.RXL_0001.AUXCALCA.PV    0.077325\n",
       "S-ZORB.FT_1204.PV              0.079586\n",
       "S-ZORB.FT_9401.PV              0.080594\n",
       "S-ZORB.LT_9001.DACA            0.085939\n",
       "S-ZORB.LC_5102.DACA            0.094142\n",
       "S-ZORB.LC_5102.PIDA.PV         0.094171\n",
       "S-ZORB.SIS_PT_6007.PV          0.094565\n",
       "S-ZORB.PT_2905.DACA            0.095604\n",
       "S-ZORB.FC_1104.DACA            0.096218\n",
       "S-ZORB.LT_3101.DACA            0.098371\n",
       "dtype: float64"
      ]
     },
     "execution_count": 17,
     "metadata": {},
     "output_type": "execute_result"
    }
   ],
   "source": [
    "#找出方差小于0.1的变量\n",
    "data.std().sort_values()[data.std().sort_values()<0.1]"
   ]
  },
  {
   "cell_type": "code",
   "execution_count": 18,
   "metadata": {},
   "outputs": [],
   "source": [
    "#去除方差小于0.1的变量\n",
    "data=data.drop(data.std().sort_values()[data.std().sort_values()<0.1].index,axis=1)"
   ]
  },
  {
   "cell_type": "code",
   "execution_count": 19,
   "metadata": {},
   "outputs": [],
   "source": [
    "#读取因变量 辛烷值损失\n",
    "y=pd.read_excel('/Users/zhongrunping/Desktop/jupyter文件夹/数学建模/RON损失(不是变量).xlsx')[::-1].reset_index(drop=True)\n",
    "y=y.iloc[:,2]"
   ]
  },
  {
   "cell_type": "code",
   "execution_count": 21,
   "metadata": {},
   "outputs": [],
   "source": [
    "#将相关系数绝对值大于0.8的变量删除 只保留一个\n",
    "data_copy=data.copy()\n",
    "corr=abs(data_copy.corr())\n",
    "for i in data_copy.columns:\n",
    "    if i in corr.columns:\n",
    "        index_drop=corr[i].sort_values(ascending=False)[corr[i].sort_values(ascending=False)>0.8].index[1:]\n",
    "        data_copy=data_copy.drop(index_drop,axis=1)\n",
    "        corr=abs(data_copy.corr())"
   ]
  },
  {
   "cell_type": "code",
   "execution_count": 23,
   "metadata": {},
   "outputs": [],
   "source": [
    "#corr.to_excel('各变量之间的相关系数(164个变量）.xlsx')"
   ]
  },
  {
   "cell_type": "code",
   "execution_count": 24,
   "metadata": {},
   "outputs": [
    {
     "data": {
      "text/plain": [
       "(325, 164)"
      ]
     },
     "execution_count": 24,
     "metadata": {},
     "output_type": "execute_result"
    }
   ],
   "source": [
    "data_copy.shape  #剩下164个变量"
   ]
  },
  {
   "cell_type": "code",
   "execution_count": 25,
   "metadata": {},
   "outputs": [],
   "source": [
    "#随机森林 特征重要性\n",
    "from sklearn.ensemble import RandomForestRegressor\n",
    "from sklearn.model_selection import train_test_split\n",
    "from sklearn.metrics import mean_squared_error"
   ]
  },
  {
   "cell_type": "code",
   "execution_count": 313,
   "metadata": {},
   "outputs": [],
   "source": [
    "xtrain,xtest,ytrain,ytest=train_test_split(data_copy,y,test_size=0.3)"
   ]
  },
  {
   "cell_type": "code",
   "execution_count": 327,
   "metadata": {},
   "outputs": [],
   "source": [
    "#调参\n",
    "train_score=[]\n",
    "test_score=[]\n",
    "for i in range(10):\n",
    "    rfreg=RandomForestRegressor(max_depth=i+1,n_estimators=100).fit(xtrain,ytrain)\n",
    "    train_score.append(mean_squared_error(ytrain,rfreg.predict(xtrain)))\n",
    "    test_score.append(mean_squared_error(ytest,rfreg.predict(xtest)))"
   ]
  },
  {
   "cell_type": "code",
   "execution_count": 328,
   "metadata": {},
   "outputs": [],
   "source": [
    "# plt.figure(figsize=(10,5),dpi=200)\n",
    "# #plt.plot(range(1,len(train_score)+1),train_score,c='r',label='tain')\n",
    "# plt.plot(range(1,len(train_score)+1),test_score,c='b',label='Test Mean_squared Error')\n",
    "# plt.legend()\n",
    "# #plt.show()\n",
    "# plt.savefig('随机森林拟合数据均方误差(164个变量).png')"
   ]
  },
  {
   "cell_type": "code",
   "execution_count": 329,
   "metadata": {},
   "outputs": [],
   "source": [
    " rfreg=RandomForestRegressor(max_depth=3).fit(xtrain,ytrain)"
   ]
  },
  {
   "cell_type": "code",
   "execution_count": 330,
   "metadata": {},
   "outputs": [
    {
     "data": {
      "text/plain": [
       "0.1272684183422476"
      ]
     },
     "execution_count": 330,
     "metadata": {},
     "output_type": "execute_result"
    }
   ],
   "source": [
    "max(rfreg.feature_importances_)"
   ]
  },
  {
   "cell_type": "code",
   "execution_count": 331,
   "metadata": {},
   "outputs": [],
   "source": [
    "#查看特征重要性\n",
    "feature_importtance=pd.concat([pd.DataFrame(data_copy.columns),pd.DataFrame(rfreg.feature_importances_)]\n",
    "          ,axis=1\n",
    "         )\n",
    "feature_importtance.columns=['变量名','重要性']"
   ]
  },
  {
   "cell_type": "code",
   "execution_count": 332,
   "metadata": {},
   "outputs": [
    {
     "data": {
      "text/html": [
       "<div>\n",
       "<style scoped>\n",
       "    .dataframe tbody tr th:only-of-type {\n",
       "        vertical-align: middle;\n",
       "    }\n",
       "\n",
       "    .dataframe tbody tr th {\n",
       "        vertical-align: top;\n",
       "    }\n",
       "\n",
       "    .dataframe thead th {\n",
       "        text-align: right;\n",
       "    }\n",
       "</style>\n",
       "<table border=\"1\" class=\"dataframe\">\n",
       "  <thead>\n",
       "    <tr style=\"text-align: right;\">\n",
       "      <th></th>\n",
       "      <th>变量名</th>\n",
       "      <th>重要性</th>\n",
       "    </tr>\n",
       "  </thead>\n",
       "  <tbody>\n",
       "    <tr>\n",
       "      <th>0</th>\n",
       "      <td>辛烷值1RON</td>\n",
       "      <td>0.127268</td>\n",
       "    </tr>\n",
       "    <tr>\n",
       "      <th>1</th>\n",
       "      <td>S-ZORB.TE_1107.DACA</td>\n",
       "      <td>0.085810</td>\n",
       "    </tr>\n",
       "    <tr>\n",
       "      <th>2</th>\n",
       "      <td>S-ZORB.TE_5101.DACA</td>\n",
       "      <td>0.054570</td>\n",
       "    </tr>\n",
       "    <tr>\n",
       "      <th>3</th>\n",
       "      <td>S-ZORB.FT_9001.PV</td>\n",
       "      <td>0.045120</td>\n",
       "    </tr>\n",
       "    <tr>\n",
       "      <th>4</th>\n",
       "      <td>S-ZORB.PDT_3002.DACA</td>\n",
       "      <td>0.036386</td>\n",
       "    </tr>\n",
       "    <tr>\n",
       "      <th>...</th>\n",
       "      <td>...</td>\n",
       "      <td>...</td>\n",
       "    </tr>\n",
       "    <tr>\n",
       "      <th>159</th>\n",
       "      <td>S-ZORB.PDT_2503.DACA</td>\n",
       "      <td>0.000000</td>\n",
       "    </tr>\n",
       "    <tr>\n",
       "      <th>160</th>\n",
       "      <td>S-ZORB.PC_2401B.PIDA.SP</td>\n",
       "      <td>0.000000</td>\n",
       "    </tr>\n",
       "    <tr>\n",
       "      <th>161</th>\n",
       "      <td>S-ZORB.FT_1502.DACA</td>\n",
       "      <td>0.000000</td>\n",
       "    </tr>\n",
       "    <tr>\n",
       "      <th>162</th>\n",
       "      <td>S-ZORB.FT_1501.PV</td>\n",
       "      <td>0.000000</td>\n",
       "    </tr>\n",
       "    <tr>\n",
       "      <th>163</th>\n",
       "      <td>S-ZORB.PT_2801.PV</td>\n",
       "      <td>0.000000</td>\n",
       "    </tr>\n",
       "  </tbody>\n",
       "</table>\n",
       "<p>164 rows × 2 columns</p>\n",
       "</div>"
      ],
      "text/plain": [
       "                         变量名       重要性\n",
       "0                    辛烷值1RON  0.127268\n",
       "1        S-ZORB.TE_1107.DACA  0.085810\n",
       "2        S-ZORB.TE_5101.DACA  0.054570\n",
       "3          S-ZORB.FT_9001.PV  0.045120\n",
       "4       S-ZORB.PDT_3002.DACA  0.036386\n",
       "..                       ...       ...\n",
       "159     S-ZORB.PDT_2503.DACA  0.000000\n",
       "160  S-ZORB.PC_2401B.PIDA.SP  0.000000\n",
       "161      S-ZORB.FT_1502.DACA  0.000000\n",
       "162        S-ZORB.FT_1501.PV  0.000000\n",
       "163        S-ZORB.PT_2801.PV  0.000000\n",
       "\n",
       "[164 rows x 2 columns]"
      ]
     },
     "execution_count": 332,
     "metadata": {},
     "output_type": "execute_result"
    }
   ],
   "source": [
    "feature_importtance.sort_values(by='重要性',ascending=False).reset_index(drop=True)"
   ]
  },
  {
   "cell_type": "code",
   "execution_count": 31,
   "metadata": {},
   "outputs": [],
   "source": [
    "#feature_importtance.sort_values(by='重要性',ascending=False).reset_index(drop=True).to_excel('随机森林选取的特征重要性排序.xlsx',index=None)"
   ]
  },
  {
   "cell_type": "code",
   "execution_count": 295,
   "metadata": {},
   "outputs": [],
   "source": [
    "#选择累计特征重要性达到90%的变量名\n",
    "selected_features=feature_importtance.sort_values(by='重要性',ascending=False).reset_index(drop=True)[:74]['变量名']"
   ]
  },
  {
   "cell_type": "code",
   "execution_count": 307,
   "metadata": {},
   "outputs": [
    {
     "data": {
      "text/html": [
       "<div>\n",
       "<style scoped>\n",
       "    .dataframe tbody tr th:only-of-type {\n",
       "        vertical-align: middle;\n",
       "    }\n",
       "\n",
       "    .dataframe tbody tr th {\n",
       "        vertical-align: top;\n",
       "    }\n",
       "\n",
       "    .dataframe thead th {\n",
       "        text-align: right;\n",
       "    }\n",
       "</style>\n",
       "<table border=\"1\" class=\"dataframe\">\n",
       "  <thead>\n",
       "    <tr style=\"text-align: right;\">\n",
       "      <th></th>\n",
       "      <th>变量名</th>\n",
       "      <th>重要性</th>\n",
       "    </tr>\n",
       "  </thead>\n",
       "  <tbody>\n",
       "    <tr>\n",
       "      <th>0</th>\n",
       "      <td>硫含量1,μg/g</td>\n",
       "      <td>0.153562</td>\n",
       "    </tr>\n",
       "    <tr>\n",
       "      <th>1</th>\n",
       "      <td>饱和烃,v%（烷烃+环烷烃）</td>\n",
       "      <td>0.141250</td>\n",
       "    </tr>\n",
       "    <tr>\n",
       "      <th>2</th>\n",
       "      <td>溴值\\n,gBr/100g</td>\n",
       "      <td>0.133805</td>\n",
       "    </tr>\n",
       "    <tr>\n",
       "      <th>3</th>\n",
       "      <td>芳烃,v%</td>\n",
       "      <td>0.083324</td>\n",
       "    </tr>\n",
       "    <tr>\n",
       "      <th>4</th>\n",
       "      <td>S-ZORB.PDT_2104.PV</td>\n",
       "      <td>0.078166</td>\n",
       "    </tr>\n",
       "    <tr>\n",
       "      <th>...</th>\n",
       "      <td>...</td>\n",
       "      <td>...</td>\n",
       "    </tr>\n",
       "    <tr>\n",
       "      <th>159</th>\n",
       "      <td>S-ZORB.CAL.LINE.PV</td>\n",
       "      <td>NaN</td>\n",
       "    </tr>\n",
       "    <tr>\n",
       "      <th>160</th>\n",
       "      <td>S-ZORB.CAL_1.CANGLIANG.PV</td>\n",
       "      <td>NaN</td>\n",
       "    </tr>\n",
       "    <tr>\n",
       "      <th>161</th>\n",
       "      <td>S-ZORB.FT_1006.DACA.PV</td>\n",
       "      <td>NaN</td>\n",
       "    </tr>\n",
       "    <tr>\n",
       "      <th>162</th>\n",
       "      <td>S-ZORB.FT_5204.DACA.PV</td>\n",
       "      <td>NaN</td>\n",
       "    </tr>\n",
       "    <tr>\n",
       "      <th>163</th>\n",
       "      <td>S-ZORB.FT_1504.DACA.PV</td>\n",
       "      <td>NaN</td>\n",
       "    </tr>\n",
       "  </tbody>\n",
       "</table>\n",
       "<p>164 rows × 2 columns</p>\n",
       "</div>"
      ],
      "text/plain": [
       "                           变量名       重要性\n",
       "0                    硫含量1,μg/g  0.153562\n",
       "1               饱和烃,v%（烷烃+环烷烃）  0.141250\n",
       "2                溴值\\n,gBr/100g  0.133805\n",
       "3                        芳烃,v%  0.083324\n",
       "4           S-ZORB.PDT_2104.PV  0.078166\n",
       "..                         ...       ...\n",
       "159         S-ZORB.CAL.LINE.PV       NaN\n",
       "160  S-ZORB.CAL_1.CANGLIANG.PV       NaN\n",
       "161     S-ZORB.FT_1006.DACA.PV       NaN\n",
       "162     S-ZORB.FT_5204.DACA.PV       NaN\n",
       "163     S-ZORB.FT_1504.DACA.PV       NaN\n",
       "\n",
       "[164 rows x 2 columns]"
      ]
     },
     "execution_count": 307,
     "metadata": {},
     "output_type": "execute_result"
    }
   ],
   "source": [
    "feature_importtance.sort_values(by='重要性',ascending=False).reset_index(drop=True)"
   ]
  },
  {
   "cell_type": "code",
   "execution_count": 273,
   "metadata": {},
   "outputs": [],
   "source": [
    "selected_features=list(selected_features)\n",
    "#selected_features.insert(0,data_copy.columns[1])"
   ]
  },
  {
   "cell_type": "code",
   "execution_count": 287,
   "metadata": {},
   "outputs": [],
   "source": [
    "#逐步添加变量 查看测试集的均方误差变化\n",
    "test_score=[]\n",
    "selected=[]\n",
    "#selected=[selected_features[0]]\n",
    "#print(selected)\n",
    "# xtrain,xtest,ytrain,ytest=train_test_split(data_copy[selected],y)\n",
    "# rfreg=RandomForestRegressor().fit(xtrain,ytrain)\n",
    "# test_score.append(mean_squared_error(ytest,rfreg.predict(xtest)))\n",
    "for i in selected_features:\n",
    "#     if i==selected_features[0]:\n",
    "#         continue\n",
    "    #判断是否是第一个\n",
    "    if len(test_score)==0:\n",
    "        selected.append(i)\n",
    "        xtrain,xtest,ytrain,ytest=train_test_split(data_copy[selected],y,random_state=0)\n",
    "        rfreg=RandomForestRegressor().fit(xtrain,ytrain)\n",
    "        test_score.append(mean_squared_error(ytest,rfreg.predict(xtest)))\n",
    "        continue\n",
    "    selected.append(i)\n",
    "    xtrain,xtest,ytrain,ytest=train_test_split(data_copy[selected],y,random_state=0)\n",
    "    rfreg=RandomForestRegressor().fit(xtrain,ytrain)\n",
    "    test_score.append(mean_squared_error(ytest,rfreg.predict(xtest)))\n",
    "    #print(mean_squared_error(ytest,rfreg.predict(xtest)))\n",
    "    #print(test_score[-1]==mean_squared_error(ytest,rfreg.predict(xtest)))\n",
    "    if mean_squared_error(ytest,rfreg.predict(xtest))>test_score[-2]:\n",
    "        selected.remove(i)\n",
    "        test_score.remove(test_score[-1])\n",
    "    #print(len(selected))"
   ]
  },
  {
   "cell_type": "code",
   "execution_count": 288,
   "metadata": {},
   "outputs": [
    {
     "data": {
      "text/plain": [
       "['S-ZORB.PDT_1003.DACA',\n",
       " 'S-ZORB.PDT_2604.PV',\n",
       " '辛烷值1RON',\n",
       " 'S-ZORB.TE_5201.DACA',\n",
       " 'S-ZORB.FT_9302.PV',\n",
       " 'S-ZORB.TC_5005.PV',\n",
       " 'S-ZORB.TE_1102.DACA',\n",
       " 'S-ZORB.TE_1107.DACA',\n",
       " 'S-ZORB.TE_5202.PV',\n",
       " '硫含量2,μg/g',\n",
       " 'S-ZORB.FC_1203.PV',\n",
       " 'S-ZORB.TE_9301.PV',\n",
       " 'S-ZORB.LI_9102.DACA',\n",
       " 'S-ZORB.FT_1204.TOTAL',\n",
       " 'S-ZORB.FT_9301.PV',\n",
       " 'S-ZORB.TE_1104.DACA',\n",
       " 'S-ZORB.PDI_2102.PV']"
      ]
     },
     "execution_count": 288,
     "metadata": {},
     "output_type": "execute_result"
    }
   ],
   "source": [
    "selected"
   ]
  },
  {
   "cell_type": "code",
   "execution_count": 289,
   "metadata": {},
   "outputs": [
    {
     "data": {
      "text/plain": [
       "[<matplotlib.lines.Line2D at 0x12af31130>]"
      ]
     },
     "execution_count": 289,
     "metadata": {},
     "output_type": "execute_result"
    },
    {
     "data": {
      "image/png": "[encoded data removed]",
      "text/plain": [
       "<Figure size 2000x1000 with 1 Axes>"
      ]
     },
     "metadata": {
      "needs_background": "light"
     },
     "output_type": "display_data"
    }
   ],
   "source": [
    "plt.figure(figsize=(10,5),dpi=200)\n",
    "plt.plot(range(1,len(selected)+1),test_score)\n",
    "#plt.savefig('逐步变量选择过程中测试集均方误差的变化.png')"
   ]
  },
  {
   "cell_type": "code",
   "execution_count": null,
   "metadata": {},
   "outputs": [],
   "source": [
    "#最终选择的八个变量\n",
    "selected"
   ]
  },
  {
   "cell_type": "code",
   "execution_count": 124,
   "metadata": {},
   "outputs": [
    {
     "data": {
      "text/plain": [
       "[0.05892375653398016,\n",
       " 0.05768750073170727,\n",
       " 0.052097434390243384,\n",
       " 0.04244170682926819,\n",
       " 0.03819562658536527,\n",
       " 0.031385631219512086,\n",
       " 0.02839750195121933]"
      ]
     },
     "execution_count": 124,
     "metadata": {},
     "output_type": "execute_result"
    }
   ],
   "source": [
    "#均方误差的变化\n",
    "test_score"
   ]
  },
  {
   "cell_type": "code",
   "execution_count": 155,
   "metadata": {},
   "outputs": [],
   "source": [
    "#找出变量的中文名\n",
    "english_features=pd.read_excel('/Users/zhongrunping/Desktop/jupyter文件夹/数学建模/253个样本(已经预处理过).xlsx'\n",
    "                  ,na_values='Nan')[::-1].iloc[:,2:][-1:].values[0]\n",
    "chinese_features=pd.read_excel('/Users/zhongrunping/Desktop/jupyter文件夹/数学建模/253个样本(已经预处理过).xlsx'\n",
    "                  ,na_values='Nan')[::-1].iloc[:,2:].columns"
   ]
  },
  {
   "cell_type": "code",
   "execution_count": 165,
   "metadata": {},
   "outputs": [
    {
     "name": "stdout",
     "output_type": "stream",
     "text": [
      "辛烷值1RON : 辛烷值RON\n",
      "S-ZORB.TE_5201.DACA : A-202A/B出口总管温度\n",
      "S-ZORB.FT_9302.PV : 0.3MPa凝结水出装置流量\n",
      "S-ZORB.TE_1102.DACA : E-101壳程入口总管温度\n",
      "硫含量2,μg/g : 硫含量,μg/g.1\n",
      "S-ZORB.FC_1203.PV : D121去稳定塔流量\n",
      "S-ZORB.LC_3301.DACA : D123冷凝水罐液位\n"
     ]
    }
   ],
   "source": [
    "chinese_selected=[]\n",
    "for i in selected:\n",
    "    for m,n in enumerate(english_features):\n",
    "        if i==n:\n",
    "            chinese_selected.append(chinese_features[m])\n",
    "            print(i,':',chinese_features[m])"
   ]
  },
  {
   "cell_type": "code",
   "execution_count": 193,
   "metadata": {},
   "outputs": [],
   "source": [
    "a=pd.read_excel('/Users/zhongrunping/Desktop/jupyter文件夹/数学建模/253个样本(已经预处理过).xlsx'\n",
    "                  ,na_values='Nan')[::-1][:-1].iloc[:,:2]\n",
    "result=pd.read_excel('/Users/zhongrunping/Desktop/jupyter文件夹/数学建模/253个样本(已经预处理过).xlsx'\n",
    "                  ,na_values='Nan')[::-1][:-1][chinese_selected]"
   ]
  },
  {
   "cell_type": "code",
   "execution_count": 194,
   "metadata": {},
   "outputs": [],
   "source": [
    "result.insert(0,'序号',a.iloc[:,0])\n",
    "result.insert(1,'时间',a.iloc[:,1])"
   ]
  },
  {
   "cell_type": "code",
   "execution_count": 196,
   "metadata": {},
   "outputs": [],
   "source": [
    "result.to_excel('325个样本数据(降维之后).xlsx',index=None)"
   ]
  },
  {
   "cell_type": "code",
   "execution_count": 223,
   "metadata": {},
   "outputs": [
    {
     "data": {
      "text/html": [
       "<div>\n",
       "<style scoped>\n",
       "    .dataframe tbody tr th:only-of-type {\n",
       "        vertical-align: middle;\n",
       "    }\n",
       "\n",
       "    .dataframe tbody tr th {\n",
       "        vertical-align: top;\n",
       "    }\n",
       "\n",
       "    .dataframe thead th {\n",
       "        text-align: right;\n",
       "    }\n",
       "</style>\n",
       "<table border=\"1\" class=\"dataframe\">\n",
       "  <thead>\n",
       "    <tr style=\"text-align: right;\">\n",
       "      <th></th>\n",
       "      <th>硫含量1,μg/g</th>\n",
       "      <th>辛烷值1RON</th>\n",
       "      <th>饱和烃,v%（烷烃+环烷烃）</th>\n",
       "      <th>烯烃,v%</th>\n",
       "      <th>芳烃,v%</th>\n",
       "      <th>溴值\\n,gBr/100g</th>\n",
       "      <th>密度(20℃),\\nkg/m³</th>\n",
       "      <th>硫含量2,μg/g</th>\n",
       "      <th>辛烷值2RON</th>\n",
       "      <th>焦炭1,wt%</th>\n",
       "      <th>...</th>\n",
       "      <th>S-ZORB.CAL_1.CANGLIANG.PV</th>\n",
       "      <th>S-ZORB.FT_1006.DACA.PV</th>\n",
       "      <th>S-ZORB.FT_5204.DACA.PV</th>\n",
       "      <th>S-ZORB.FT_1006.TOTALIZERA.PV</th>\n",
       "      <th>S-ZORB.FT_5204.TOTALIZERA.PV</th>\n",
       "      <th>S-ZORB.FT_1503.DACA.PV</th>\n",
       "      <th>S-ZORB.FT_1503.TOTALIZERA.PV</th>\n",
       "      <th>S-ZORB.FT_1504.DACA.PV</th>\n",
       "      <th>S-ZORB.FT_1504.TOTALIZERA.PV</th>\n",
       "      <th>S-ZORB.PC_1001A.PV</th>\n",
       "    </tr>\n",
       "  </thead>\n",
       "  <tbody>\n",
       "    <tr>\n",
       "      <th>0</th>\n",
       "      <td>0.224382</td>\n",
       "      <td>0.099307</td>\n",
       "      <td>-0.555423</td>\n",
       "      <td>0.904102</td>\n",
       "      <td>-0.569696</td>\n",
       "      <td>-0.517153</td>\n",
       "      <td>0.271646</td>\n",
       "      <td>1.000000</td>\n",
       "      <td>0.102994</td>\n",
       "      <td>0.574111</td>\n",
       "      <td>...</td>\n",
       "      <td>0.296683</td>\n",
       "      <td>0.545969</td>\n",
       "      <td>-0.011311</td>\n",
       "      <td>0.267879</td>\n",
       "      <td>0.683246</td>\n",
       "      <td>1.000000</td>\n",
       "      <td>-0.581038</td>\n",
       "      <td>-16.013789</td>\n",
       "      <td>-0.779532</td>\n",
       "      <td>-2.594958</td>\n",
       "    </tr>\n",
       "    <tr>\n",
       "      <th>1</th>\n",
       "      <td>0.224382</td>\n",
       "      <td>-0.150885</td>\n",
       "      <td>-0.555423</td>\n",
       "      <td>0.904102</td>\n",
       "      <td>-0.569696</td>\n",
       "      <td>-0.517153</td>\n",
       "      <td>0.271646</td>\n",
       "      <td>-0.059179</td>\n",
       "      <td>-0.165601</td>\n",
       "      <td>0.128155</td>\n",
       "      <td>...</td>\n",
       "      <td>0.704628</td>\n",
       "      <td>0.487119</td>\n",
       "      <td>-0.015885</td>\n",
       "      <td>0.274783</td>\n",
       "      <td>0.688485</td>\n",
       "      <td>0.905778</td>\n",
       "      <td>-0.579015</td>\n",
       "      <td>-14.485815</td>\n",
       "      <td>-0.773905</td>\n",
       "      <td>-2.579701</td>\n",
       "    </tr>\n",
       "    <tr>\n",
       "      <th>2</th>\n",
       "      <td>0.257799</td>\n",
       "      <td>-0.150885</td>\n",
       "      <td>-0.511595</td>\n",
       "      <td>0.636881</td>\n",
       "      <td>-0.098788</td>\n",
       "      <td>-0.119241</td>\n",
       "      <td>-0.130205</td>\n",
       "      <td>-0.110846</td>\n",
       "      <td>-0.201076</td>\n",
       "      <td>0.283125</td>\n",
       "      <td>...</td>\n",
       "      <td>0.521728</td>\n",
       "      <td>0.525320</td>\n",
       "      <td>-0.015595</td>\n",
       "      <td>0.281723</td>\n",
       "      <td>0.693669</td>\n",
       "      <td>0.811557</td>\n",
       "      <td>-0.576993</td>\n",
       "      <td>-12.957840</td>\n",
       "      <td>-0.768278</td>\n",
       "      <td>-2.564444</td>\n",
       "    </tr>\n",
       "    <tr>\n",
       "      <th>3</th>\n",
       "      <td>0.257799</td>\n",
       "      <td>-0.250962</td>\n",
       "      <td>-0.511595</td>\n",
       "      <td>0.636881</td>\n",
       "      <td>-0.098788</td>\n",
       "      <td>-0.119241</td>\n",
       "      <td>-0.130205</td>\n",
       "      <td>-0.110846</td>\n",
       "      <td>-0.251754</td>\n",
       "      <td>0.658843</td>\n",
       "      <td>...</td>\n",
       "      <td>0.381108</td>\n",
       "      <td>0.558000</td>\n",
       "      <td>-0.016289</td>\n",
       "      <td>0.292349</td>\n",
       "      <td>0.701123</td>\n",
       "      <td>0.670224</td>\n",
       "      <td>-0.573959</td>\n",
       "      <td>-10.665878</td>\n",
       "      <td>-0.759837</td>\n",
       "      <td>-2.541559</td>\n",
       "    </tr>\n",
       "    <tr>\n",
       "      <th>4</th>\n",
       "      <td>0.257799</td>\n",
       "      <td>-0.250962</td>\n",
       "      <td>-0.511595</td>\n",
       "      <td>0.636881</td>\n",
       "      <td>-0.098788</td>\n",
       "      <td>-0.119241</td>\n",
       "      <td>-0.130205</td>\n",
       "      <td>-0.110846</td>\n",
       "      <td>-0.201076</td>\n",
       "      <td>0.698979</td>\n",
       "      <td>...</td>\n",
       "      <td>0.919968</td>\n",
       "      <td>0.538099</td>\n",
       "      <td>-0.015417</td>\n",
       "      <td>0.299446</td>\n",
       "      <td>0.706243</td>\n",
       "      <td>0.576002</td>\n",
       "      <td>-0.571937</td>\n",
       "      <td>-9.137904</td>\n",
       "      <td>-0.754210</td>\n",
       "      <td>-2.526301</td>\n",
       "    </tr>\n",
       "    <tr>\n",
       "      <th>...</th>\n",
       "      <td>...</td>\n",
       "      <td>...</td>\n",
       "      <td>...</td>\n",
       "      <td>...</td>\n",
       "      <td>...</td>\n",
       "      <td>...</td>\n",
       "      <td>...</td>\n",
       "      <td>...</td>\n",
       "      <td>...</td>\n",
       "      <td>...</td>\n",
       "      <td>...</td>\n",
       "      <td>...</td>\n",
       "      <td>...</td>\n",
       "      <td>...</td>\n",
       "      <td>...</td>\n",
       "      <td>...</td>\n",
       "      <td>...</td>\n",
       "      <td>...</td>\n",
       "      <td>...</td>\n",
       "      <td>...</td>\n",
       "      <td>...</td>\n",
       "    </tr>\n",
       "    <tr>\n",
       "      <th>320</th>\n",
       "      <td>-0.348098</td>\n",
       "      <td>-0.050808</td>\n",
       "      <td>-0.040412</td>\n",
       "      <td>0.138150</td>\n",
       "      <td>-0.198190</td>\n",
       "      <td>0.444792</td>\n",
       "      <td>-0.111069</td>\n",
       "      <td>-0.110846</td>\n",
       "      <td>-0.064245</td>\n",
       "      <td>-0.081445</td>\n",
       "      <td>...</td>\n",
       "      <td>-0.206622</td>\n",
       "      <td>0.264998</td>\n",
       "      <td>0.028971</td>\n",
       "      <td>0.243224</td>\n",
       "      <td>-0.249932</td>\n",
       "      <td>-0.016375</td>\n",
       "      <td>0.967293</td>\n",
       "      <td>-0.551006</td>\n",
       "      <td>0.974427</td>\n",
       "      <td>1.000000</td>\n",
       "    </tr>\n",
       "    <tr>\n",
       "      <th>321</th>\n",
       "      <td>-0.434278</td>\n",
       "      <td>0.349500</td>\n",
       "      <td>-0.035084</td>\n",
       "      <td>0.076579</td>\n",
       "      <td>-0.077702</td>\n",
       "      <td>0.444619</td>\n",
       "      <td>-0.113461</td>\n",
       "      <td>-0.110846</td>\n",
       "      <td>0.290504</td>\n",
       "      <td>-0.011207</td>\n",
       "      <td>...</td>\n",
       "      <td>-0.166599</td>\n",
       "      <td>0.256750</td>\n",
       "      <td>0.029885</td>\n",
       "      <td>0.248820</td>\n",
       "      <td>-0.241993</td>\n",
       "      <td>-0.016434</td>\n",
       "      <td>0.972654</td>\n",
       "      <td>-0.541647</td>\n",
       "      <td>0.977800</td>\n",
       "      <td>0.999877</td>\n",
       "    </tr>\n",
       "    <tr>\n",
       "      <th>322</th>\n",
       "      <td>-0.323475</td>\n",
       "      <td>0.499615</td>\n",
       "      <td>-0.035084</td>\n",
       "      <td>0.099668</td>\n",
       "      <td>-0.127906</td>\n",
       "      <td>0.468413</td>\n",
       "      <td>0.239354</td>\n",
       "      <td>-0.110846</td>\n",
       "      <td>0.442539</td>\n",
       "      <td>-0.083675</td>\n",
       "      <td>...</td>\n",
       "      <td>-0.223666</td>\n",
       "      <td>0.256463</td>\n",
       "      <td>0.027167</td>\n",
       "      <td>0.262657</td>\n",
       "      <td>-0.221935</td>\n",
       "      <td>-0.016466</td>\n",
       "      <td>0.984516</td>\n",
       "      <td>-0.504664</td>\n",
       "      <td>0.986544</td>\n",
       "      <td>0.999766</td>\n",
       "    </tr>\n",
       "    <tr>\n",
       "      <th>323</th>\n",
       "      <td>-0.372721</td>\n",
       "      <td>0.399538</td>\n",
       "      <td>-0.035084</td>\n",
       "      <td>0.108904</td>\n",
       "      <td>-0.147987</td>\n",
       "      <td>0.477930</td>\n",
       "      <td>0.380480</td>\n",
       "      <td>-0.110846</td>\n",
       "      <td>0.442539</td>\n",
       "      <td>-0.090364</td>\n",
       "      <td>...</td>\n",
       "      <td>-0.176629</td>\n",
       "      <td>0.234179</td>\n",
       "      <td>0.031956</td>\n",
       "      <td>0.268098</td>\n",
       "      <td>-0.213971</td>\n",
       "      <td>-0.016457</td>\n",
       "      <td>0.989412</td>\n",
       "      <td>-0.463586</td>\n",
       "      <td>0.990028</td>\n",
       "      <td>0.999894</td>\n",
       "    </tr>\n",
       "    <tr>\n",
       "      <th>324</th>\n",
       "      <td>-0.255763</td>\n",
       "      <td>0.449577</td>\n",
       "      <td>0.051640</td>\n",
       "      <td>-0.106597</td>\n",
       "      <td>0.102696</td>\n",
       "      <td>0.454137</td>\n",
       "      <td>-0.056054</td>\n",
       "      <td>-0.110846</td>\n",
       "      <td>0.391860</td>\n",
       "      <td>-0.095938</td>\n",
       "      <td>...</td>\n",
       "      <td>-0.161689</td>\n",
       "      <td>0.235430</td>\n",
       "      <td>0.027288</td>\n",
       "      <td>0.281708</td>\n",
       "      <td>-0.193927</td>\n",
       "      <td>-0.016486</td>\n",
       "      <td>1.000000</td>\n",
       "      <td>-0.265072</td>\n",
       "      <td>1.000000</td>\n",
       "      <td>0.999858</td>\n",
       "    </tr>\n",
       "  </tbody>\n",
       "</table>\n",
       "<p>325 rows × 349 columns</p>\n",
       "</div>"
      ],
      "text/plain": [
       "0    硫含量1,μg/g   辛烷值1RON  饱和烃,v%（烷烃+环烷烃）     烯烃,v%     芳烃,v%  溴值\\n,gBr/100g  \\\n",
       "0     0.224382  0.099307       -0.555423  0.904102 -0.569696      -0.517153   \n",
       "1     0.224382 -0.150885       -0.555423  0.904102 -0.569696      -0.517153   \n",
       "2     0.257799 -0.150885       -0.511595  0.636881 -0.098788      -0.119241   \n",
       "3     0.257799 -0.250962       -0.511595  0.636881 -0.098788      -0.119241   \n",
       "4     0.257799 -0.250962       -0.511595  0.636881 -0.098788      -0.119241   \n",
       "..         ...       ...             ...       ...       ...            ...   \n",
       "320  -0.348098 -0.050808       -0.040412  0.138150 -0.198190       0.444792   \n",
       "321  -0.434278  0.349500       -0.035084  0.076579 -0.077702       0.444619   \n",
       "322  -0.323475  0.499615       -0.035084  0.099668 -0.127906       0.468413   \n",
       "323  -0.372721  0.399538       -0.035084  0.108904 -0.147987       0.477930   \n",
       "324  -0.255763  0.449577        0.051640 -0.106597  0.102696       0.454137   \n",
       "\n",
       "0    密度(20℃),\\nkg/m³  硫含量2,μg/g   辛烷值2RON   焦炭1,wt%  ...  \\\n",
       "0           0.271646   1.000000  0.102994  0.574111  ...   \n",
       "1           0.271646  -0.059179 -0.165601  0.128155  ...   \n",
       "2          -0.130205  -0.110846 -0.201076  0.283125  ...   \n",
       "3          -0.130205  -0.110846 -0.251754  0.658843  ...   \n",
       "4          -0.130205  -0.110846 -0.201076  0.698979  ...   \n",
       "..               ...        ...       ...       ...  ...   \n",
       "320        -0.111069  -0.110846 -0.064245 -0.081445  ...   \n",
       "321        -0.113461  -0.110846  0.290504 -0.011207  ...   \n",
       "322         0.239354  -0.110846  0.442539 -0.083675  ...   \n",
       "323         0.380480  -0.110846  0.442539 -0.090364  ...   \n",
       "324        -0.056054  -0.110846  0.391860 -0.095938  ...   \n",
       "\n",
       "0    S-ZORB.CAL_1.CANGLIANG.PV  S-ZORB.FT_1006.DACA.PV  \\\n",
       "0                     0.296683                0.545969   \n",
       "1                     0.704628                0.487119   \n",
       "2                     0.521728                0.525320   \n",
       "3                     0.381108                0.558000   \n",
       "4                     0.919968                0.538099   \n",
       "..                         ...                     ...   \n",
       "320                  -0.206622                0.264998   \n",
       "321                  -0.166599                0.256750   \n",
       "322                  -0.223666                0.256463   \n",
       "323                  -0.176629                0.234179   \n",
       "324                  -0.161689                0.235430   \n",
       "\n",
       "0    S-ZORB.FT_5204.DACA.PV  S-ZORB.FT_1006.TOTALIZERA.PV  \\\n",
       "0                 -0.011311                      0.267879   \n",
       "1                 -0.015885                      0.274783   \n",
       "2                 -0.015595                      0.281723   \n",
       "3                 -0.016289                      0.292349   \n",
       "4                 -0.015417                      0.299446   \n",
       "..                      ...                           ...   \n",
       "320                0.028971                      0.243224   \n",
       "321                0.029885                      0.248820   \n",
       "322                0.027167                      0.262657   \n",
       "323                0.031956                      0.268098   \n",
       "324                0.027288                      0.281708   \n",
       "\n",
       "0    S-ZORB.FT_5204.TOTALIZERA.PV  S-ZORB.FT_1503.DACA.PV  \\\n",
       "0                        0.683246                1.000000   \n",
       "1                        0.688485                0.905778   \n",
       "2                        0.693669                0.811557   \n",
       "3                        0.701123                0.670224   \n",
       "4                        0.706243                0.576002   \n",
       "..                            ...                     ...   \n",
       "320                     -0.249932               -0.016375   \n",
       "321                     -0.241993               -0.016434   \n",
       "322                     -0.221935               -0.016466   \n",
       "323                     -0.213971               -0.016457   \n",
       "324                     -0.193927               -0.016486   \n",
       "\n",
       "0    S-ZORB.FT_1503.TOTALIZERA.PV  S-ZORB.FT_1504.DACA.PV  \\\n",
       "0                       -0.581038              -16.013789   \n",
       "1                       -0.579015              -14.485815   \n",
       "2                       -0.576993              -12.957840   \n",
       "3                       -0.573959              -10.665878   \n",
       "4                       -0.571937               -9.137904   \n",
       "..                            ...                     ...   \n",
       "320                      0.967293               -0.551006   \n",
       "321                      0.972654               -0.541647   \n",
       "322                      0.984516               -0.504664   \n",
       "323                      0.989412               -0.463586   \n",
       "324                      1.000000               -0.265072   \n",
       "\n",
       "0    S-ZORB.FT_1504.TOTALIZERA.PV  S-ZORB.PC_1001A.PV  \n",
       "0                       -0.779532           -2.594958  \n",
       "1                       -0.773905           -2.579701  \n",
       "2                       -0.768278           -2.564444  \n",
       "3                       -0.759837           -2.541559  \n",
       "4                       -0.754210           -2.526301  \n",
       "..                            ...                 ...  \n",
       "320                      0.974427            1.000000  \n",
       "321                      0.977800            0.999877  \n",
       "322                      0.986544            0.999766  \n",
       "323                      0.990028            0.999894  \n",
       "324                      1.000000            0.999858  \n",
       "\n",
       "[325 rows x 349 columns]"
      ]
     },
     "execution_count": 223,
     "metadata": {},
     "output_type": "execute_result"
    }
   ],
   "source": [
    "data"
   ]
  },
  {
   "cell_type": "code",
   "execution_count": null,
   "metadata": {},
   "outputs": [],
   "source": []
  },
  {
   "cell_type": "code",
   "execution_count": null,
   "metadata": {},
   "outputs": [],
   "source": []
  },
  {
   "cell_type": "code",
   "execution_count": null,
   "metadata": {},
   "outputs": [],
   "source": []
  },
  {
   "cell_type": "code",
   "execution_count": null,
   "metadata": {},
   "outputs": [],
   "source": []
  }
 ],
 "metadata": {
  "kernelspec": {
   "display_name": "Python 3",
   "language": "python",
   "name": "python3"
  },
  "language_info": {
   "codemirror_mode": {
    "name": "ipython",
    "version": 3
   },
   "file_extension": ".py",
   "mimetype": "text/x-python",
   "name": "python",
   "nbconvert_exporter": "python",
   "pygments_lexer": "ipython3",
   "version": "3.8.3"
  }
 },
 "nbformat": 4,
 "nbformat_minor": 4
}
