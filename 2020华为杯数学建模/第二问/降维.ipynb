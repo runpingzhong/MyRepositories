{
 "cells": [
  {
   "cell_type": "code",
   "execution_count": 1,
   "metadata": {},
   "outputs": [],
   "source": [
    "import numpy as np\n",
    "import pandas as pd\n",
    "import matplotlib.pyplot as plt\n",
    "import seaborn as sns"
   ]
  },
  {
   "cell_type": "code",
   "execution_count": 2,
   "metadata": {},
   "outputs": [],
   "source": [
    "data=pd.read_excel(r'/Users/zhongrunping/Desktop/jupyter文件夹/数学建模/第二问/253个变量原始数据.xlsx',encoding='gbk').iloc[:,2:]"
   ]
  },
  {
   "cell_type": "code",
   "execution_count": 3,
   "metadata": {},
   "outputs": [
    {
     "data": {
      "text/plain": [
       "Series([], dtype: int64)"
      ]
     },
     "execution_count": 3,
     "metadata": {},
     "output_type": "execute_result"
    }
   ],
   "source": [
    "data.isnull().sum()[data.isnull().sum()>0] #没有空值"
   ]
  },
  {
   "cell_type": "code",
   "execution_count": 4,
   "metadata": {},
   "outputs": [
    {
     "data": {
      "text/html": [
       "<div>\n",
       "<style scoped>\n",
       "    .dataframe tbody tr th:only-of-type {\n",
       "        vertical-align: middle;\n",
       "    }\n",
       "\n",
       "    .dataframe tbody tr th {\n",
       "        vertical-align: top;\n",
       "    }\n",
       "\n",
       "    .dataframe thead th {\n",
       "        text-align: right;\n",
       "    }\n",
       "</style>\n",
       "<table border=\"1\" class=\"dataframe\">\n",
       "  <thead>\n",
       "    <tr style=\"text-align: right;\">\n",
       "      <th></th>\n",
       "      <th>硫含量1,μg/g</th>\n",
       "      <th>辛烷值1RON</th>\n",
       "      <th>饱和烃,v%（烷烃+环烷烃）</th>\n",
       "      <th>烯烃,v%</th>\n",
       "      <th>芳烃,v%</th>\n",
       "      <th>溴值\\n,gBr/100g</th>\n",
       "      <th>密度(20℃),\\nkg/m³</th>\n",
       "      <th>硫含量2,μg/g</th>\n",
       "      <th>辛烷值2RON</th>\n",
       "      <th>焦炭1,wt%</th>\n",
       "      <th>...</th>\n",
       "      <th>再生器藏量</th>\n",
       "      <th>加氢裂化轻石脑油进装置流量</th>\n",
       "      <th>汽油产品去气分流量</th>\n",
       "      <th>加氢裂化轻石脑油进装置累积流量</th>\n",
       "      <th>汽油产品去气分累积流量</th>\n",
       "      <th>8.0MPa氢气至循环氢压缩机入口</th>\n",
       "      <th>8.0MPa氢气至循环氢压缩机入口.1</th>\n",
       "      <th>8.0MPa氢气至反吹氢压缩机出口</th>\n",
       "      <th>8.0MPa氢气至反吹氢压缩机出口.1</th>\n",
       "      <th>D101原料缓冲罐压力</th>\n",
       "    </tr>\n",
       "  </thead>\n",
       "  <tbody>\n",
       "    <tr>\n",
       "      <th>0</th>\n",
       "      <td>-0.255763</td>\n",
       "      <td>0.449577</td>\n",
       "      <td>0.051640</td>\n",
       "      <td>-0.106597</td>\n",
       "      <td>0.102696</td>\n",
       "      <td>0.454137</td>\n",
       "      <td>-0.056054</td>\n",
       "      <td>-0.110846</td>\n",
       "      <td>0.391860</td>\n",
       "      <td>-0.095938</td>\n",
       "      <td>...</td>\n",
       "      <td>-0.161689</td>\n",
       "      <td>0.235430</td>\n",
       "      <td>0.027288</td>\n",
       "      <td>0.281708</td>\n",
       "      <td>-0.193927</td>\n",
       "      <td>-0.016486</td>\n",
       "      <td>1.000000</td>\n",
       "      <td>-0.265072</td>\n",
       "      <td>1.000000</td>\n",
       "      <td>0.999858</td>\n",
       "    </tr>\n",
       "    <tr>\n",
       "      <th>1</th>\n",
       "      <td>-0.372721</td>\n",
       "      <td>0.399538</td>\n",
       "      <td>-0.035084</td>\n",
       "      <td>0.108904</td>\n",
       "      <td>-0.147987</td>\n",
       "      <td>0.477930</td>\n",
       "      <td>0.380480</td>\n",
       "      <td>-0.110846</td>\n",
       "      <td>0.442539</td>\n",
       "      <td>-0.090364</td>\n",
       "      <td>...</td>\n",
       "      <td>-0.176629</td>\n",
       "      <td>0.234179</td>\n",
       "      <td>0.031956</td>\n",
       "      <td>0.268098</td>\n",
       "      <td>-0.213971</td>\n",
       "      <td>-0.016457</td>\n",
       "      <td>0.989412</td>\n",
       "      <td>-0.463586</td>\n",
       "      <td>0.990028</td>\n",
       "      <td>0.999894</td>\n",
       "    </tr>\n",
       "    <tr>\n",
       "      <th>2</th>\n",
       "      <td>-0.323475</td>\n",
       "      <td>0.499615</td>\n",
       "      <td>-0.035084</td>\n",
       "      <td>0.099668</td>\n",
       "      <td>-0.127906</td>\n",
       "      <td>0.468413</td>\n",
       "      <td>0.239354</td>\n",
       "      <td>-0.110846</td>\n",
       "      <td>0.442539</td>\n",
       "      <td>-0.083675</td>\n",
       "      <td>...</td>\n",
       "      <td>-0.223666</td>\n",
       "      <td>0.256463</td>\n",
       "      <td>0.027167</td>\n",
       "      <td>0.262657</td>\n",
       "      <td>-0.221935</td>\n",
       "      <td>-0.016466</td>\n",
       "      <td>0.984516</td>\n",
       "      <td>-0.504664</td>\n",
       "      <td>0.986544</td>\n",
       "      <td>0.999766</td>\n",
       "    </tr>\n",
       "    <tr>\n",
       "      <th>3</th>\n",
       "      <td>-0.434278</td>\n",
       "      <td>0.349500</td>\n",
       "      <td>-0.035084</td>\n",
       "      <td>0.076579</td>\n",
       "      <td>-0.077702</td>\n",
       "      <td>0.444619</td>\n",
       "      <td>-0.113461</td>\n",
       "      <td>-0.110846</td>\n",
       "      <td>0.290504</td>\n",
       "      <td>-0.011207</td>\n",
       "      <td>...</td>\n",
       "      <td>-0.166599</td>\n",
       "      <td>0.256750</td>\n",
       "      <td>0.029885</td>\n",
       "      <td>0.248820</td>\n",
       "      <td>-0.241993</td>\n",
       "      <td>-0.016434</td>\n",
       "      <td>0.972654</td>\n",
       "      <td>-0.541647</td>\n",
       "      <td>0.977800</td>\n",
       "      <td>0.999877</td>\n",
       "    </tr>\n",
       "    <tr>\n",
       "      <th>4</th>\n",
       "      <td>-0.348098</td>\n",
       "      <td>-0.050808</td>\n",
       "      <td>-0.040412</td>\n",
       "      <td>0.138150</td>\n",
       "      <td>-0.198190</td>\n",
       "      <td>0.444792</td>\n",
       "      <td>-0.111069</td>\n",
       "      <td>-0.110846</td>\n",
       "      <td>-0.064245</td>\n",
       "      <td>-0.081445</td>\n",
       "      <td>...</td>\n",
       "      <td>-0.206622</td>\n",
       "      <td>0.264998</td>\n",
       "      <td>0.028971</td>\n",
       "      <td>0.243224</td>\n",
       "      <td>-0.249932</td>\n",
       "      <td>-0.016375</td>\n",
       "      <td>0.967293</td>\n",
       "      <td>-0.551006</td>\n",
       "      <td>0.974427</td>\n",
       "      <td>1.000000</td>\n",
       "    </tr>\n",
       "  </tbody>\n",
       "</table>\n",
       "<p>5 rows × 367 columns</p>\n",
       "</div>"
      ],
      "text/plain": [
       "   硫含量1,μg/g   辛烷值1RON  饱和烃,v%（烷烃+环烷烃）     烯烃,v%     芳烃,v%  溴值\\n,gBr/100g  \\\n",
       "0  -0.255763  0.449577        0.051640 -0.106597  0.102696       0.454137   \n",
       "1  -0.372721  0.399538       -0.035084  0.108904 -0.147987       0.477930   \n",
       "2  -0.323475  0.499615       -0.035084  0.099668 -0.127906       0.468413   \n",
       "3  -0.434278  0.349500       -0.035084  0.076579 -0.077702       0.444619   \n",
       "4  -0.348098 -0.050808       -0.040412  0.138150 -0.198190       0.444792   \n",
       "\n",
       "   密度(20℃),\\nkg/m³  硫含量2,μg/g   辛烷值2RON   焦炭1,wt%  ...     再生器藏量  \\\n",
       "0        -0.056054  -0.110846  0.391860 -0.095938  ... -0.161689   \n",
       "1         0.380480  -0.110846  0.442539 -0.090364  ... -0.176629   \n",
       "2         0.239354  -0.110846  0.442539 -0.083675  ... -0.223666   \n",
       "3        -0.113461  -0.110846  0.290504 -0.011207  ... -0.166599   \n",
       "4        -0.111069  -0.110846 -0.064245 -0.081445  ... -0.206622   \n",
       "\n",
       "   加氢裂化轻石脑油进装置流量  汽油产品去气分流量  加氢裂化轻石脑油进装置累积流量  汽油产品去气分累积流量  8.0MPa氢气至循环氢压缩机入口  \\\n",
       "0       0.235430   0.027288         0.281708    -0.193927          -0.016486   \n",
       "1       0.234179   0.031956         0.268098    -0.213971          -0.016457   \n",
       "2       0.256463   0.027167         0.262657    -0.221935          -0.016466   \n",
       "3       0.256750   0.029885         0.248820    -0.241993          -0.016434   \n",
       "4       0.264998   0.028971         0.243224    -0.249932          -0.016375   \n",
       "\n",
       "   8.0MPa氢气至循环氢压缩机入口.1  8.0MPa氢气至反吹氢压缩机出口  8.0MPa氢气至反吹氢压缩机出口.1  D101原料缓冲罐压力  \n",
       "0             1.000000          -0.265072             1.000000     0.999858  \n",
       "1             0.989412          -0.463586             0.990028     0.999894  \n",
       "2             0.984516          -0.504664             0.986544     0.999766  \n",
       "3             0.972654          -0.541647             0.977800     0.999877  \n",
       "4             0.967293          -0.551006             0.974427     1.000000  \n",
       "\n",
       "[5 rows x 367 columns]"
      ]
     },
     "execution_count": 4,
     "metadata": {},
     "output_type": "execute_result"
    }
   ],
   "source": [
    "data=data.apply(lambda x:(x-x.mean())/(x.max()-x.mean()))\n",
    "data.head()"
   ]
  },
  {
   "cell_type": "code",
   "execution_count": 5,
   "metadata": {},
   "outputs": [
    {
     "data": {
      "text/plain": [
       "加热炉氧含量         0.058750\n",
       "D-101脱水包液位     0.060870\n",
       "再生器压力          0.071215\n",
       "再生烟气氧含量        0.075181\n",
       "污油出装置          0.076172\n",
       "闭锁料斗烃含量        0.076461\n",
       "加热炉效率          0.077325\n",
       "0.19           0.079566\n",
       "净化风进装置流量       0.080594\n",
       "D-203底部液位      0.085939\n",
       "D-201水包界位      0.094142\n",
       "D-201含硫污水液位    0.094171\n",
       "空气预热器烟气出口压力    0.094565\n",
       "D-109压力        0.095604\n",
       "进料调节阀旁路流量      0.096218\n",
       "D-124液位        0.098371\n",
       "dtype: float64"
      ]
     },
     "execution_count": 5,
     "metadata": {},
     "output_type": "execute_result"
    }
   ],
   "source": [
    "#找出方差小于0.1的变量\n",
    "data.std().sort_values()[data.std().sort_values()<0.1]"
   ]
  },
  {
   "cell_type": "code",
   "execution_count": 6,
   "metadata": {},
   "outputs": [],
   "source": [
    "#删除小于0.1的变量\n",
    "data=data.drop(data.std().sort_values()[data.std().sort_values()<0.1].index,axis=1)"
   ]
  },
  {
   "cell_type": "code",
   "execution_count": 7,
   "metadata": {},
   "outputs": [],
   "source": [
    "#读取因变量 辛烷值损失\n",
    "y=pd.read_excel('/Users/zhongrunping/Desktop/jupyter文件夹/数学建模/RON损失(不是变量).xlsx')[::-1].reset_index(drop=True)\n",
    "y=y.iloc[:,2]"
   ]
  },
  {
   "cell_type": "code",
   "execution_count": 8,
   "metadata": {},
   "outputs": [],
   "source": [
    "#将相关系数绝对值大于0.8的变量删除 只保留一个\n",
    "data_copy=data.copy()\n",
    "corr=abs(data_copy.corr())\n",
    "for i in data_copy.columns:\n",
    "    if i in corr.columns:\n",
    "        index_drop=corr[i].sort_values(ascending=False)[corr[i].sort_values(ascending=False)>0.8].index[1:]\n",
    "        data_copy=data_copy.drop(index_drop,axis=1)\n",
    "        corr=abs(data_copy.corr())"
   ]
  },
  {
   "cell_type": "code",
   "execution_count": 9,
   "metadata": {},
   "outputs": [
    {
     "data": {
      "text/plain": [
       "(325, 164)"
      ]
     },
     "execution_count": 9,
     "metadata": {},
     "output_type": "execute_result"
    }
   ],
   "source": [
    "data_copy.shape  #剩下164个变量"
   ]
  },
  {
   "cell_type": "code",
   "execution_count": 10,
   "metadata": {},
   "outputs": [],
   "source": [
    "#随机森林 特征重要性\n",
    "from sklearn.ensemble import RandomForestRegressor\n",
    "from sklearn.model_selection import train_test_split\n",
    "from sklearn.metrics import mean_squared_error"
   ]
  },
  {
   "cell_type": "code",
   "execution_count": 11,
   "metadata": {},
   "outputs": [],
   "source": [
    "xtrain,xtest,ytrain,ytest=train_test_split(data_copy,y,test_size=0.3)"
   ]
  },
  {
   "cell_type": "code",
   "execution_count": 12,
   "metadata": {},
   "outputs": [],
   "source": [
    " rfreg=RandomForestRegressor(max_depth=3).fit(xtrain,ytrain)"
   ]
  },
  {
   "cell_type": "code",
   "execution_count": 13,
   "metadata": {},
   "outputs": [
    {
     "data": {
      "text/plain": [
       "0.03487690283522122"
      ]
     },
     "execution_count": 13,
     "metadata": {},
     "output_type": "execute_result"
    }
   ],
   "source": [
    "mean_squared_error(ytest,rfreg.predict(xtest))"
   ]
  },
  {
   "cell_type": "code",
   "execution_count": 14,
   "metadata": {},
   "outputs": [],
   "source": [
    "feature_importtance=pd.concat([pd.DataFrame(data_copy.columns),pd.DataFrame(rfreg.feature_importances_)]\n",
    "          ,axis=1\n",
    "         )\n",
    "feature_importtance.columns=['变量名','重要性']"
   ]
  },
  {
   "cell_type": "code",
   "execution_count": 16,
   "metadata": {},
   "outputs": [
    {
     "data": {
      "text/html": [
       "<div>\n",
       "<style scoped>\n",
       "    .dataframe tbody tr th:only-of-type {\n",
       "        vertical-align: middle;\n",
       "    }\n",
       "\n",
       "    .dataframe tbody tr th {\n",
       "        vertical-align: top;\n",
       "    }\n",
       "\n",
       "    .dataframe thead th {\n",
       "        text-align: right;\n",
       "    }\n",
       "</style>\n",
       "<table border=\"1\" class=\"dataframe\">\n",
       "  <thead>\n",
       "    <tr style=\"text-align: right;\">\n",
       "      <th></th>\n",
       "      <th>变量名</th>\n",
       "      <th>重要性</th>\n",
       "    </tr>\n",
       "  </thead>\n",
       "  <tbody>\n",
       "    <tr>\n",
       "      <th>0</th>\n",
       "      <td>1.0MPa蒸汽进装置温度</td>\n",
       "      <td>0.068445</td>\n",
       "    </tr>\n",
       "    <tr>\n",
       "      <th>1</th>\n",
       "      <td>火炬罐D-206液位</td>\n",
       "      <td>0.046716</td>\n",
       "    </tr>\n",
       "    <tr>\n",
       "      <th>2</th>\n",
       "      <td>D-110底流化N2流量</td>\n",
       "      <td>0.044104</td>\n",
       "    </tr>\n",
       "    <tr>\n",
       "      <th>3</th>\n",
       "      <td>稳定塔顶压力</td>\n",
       "      <td>0.041977</td>\n",
       "    </tr>\n",
       "    <tr>\n",
       "      <th>4</th>\n",
       "      <td>燃料气进装置流量</td>\n",
       "      <td>0.041250</td>\n",
       "    </tr>\n",
       "    <tr>\n",
       "      <th>...</th>\n",
       "      <td>...</td>\n",
       "      <td>...</td>\n",
       "    </tr>\n",
       "    <tr>\n",
       "      <th>159</th>\n",
       "      <td>再生冷氮气流量</td>\n",
       "      <td>0.000000</td>\n",
       "    </tr>\n",
       "    <tr>\n",
       "      <th>160</th>\n",
       "      <td>D121液面</td>\n",
       "      <td>0.000000</td>\n",
       "    </tr>\n",
       "    <tr>\n",
       "      <th>161</th>\n",
       "      <td>ME-105过滤器压差</td>\n",
       "      <td>0.000000</td>\n",
       "    </tr>\n",
       "    <tr>\n",
       "      <th>162</th>\n",
       "      <td>加热炉进口温度</td>\n",
       "      <td>0.000000</td>\n",
       "    </tr>\n",
       "    <tr>\n",
       "      <th>163</th>\n",
       "      <td>P-105A/B出口总管流量</td>\n",
       "      <td>0.000000</td>\n",
       "    </tr>\n",
       "  </tbody>\n",
       "</table>\n",
       "<p>164 rows × 2 columns</p>\n",
       "</div>"
      ],
      "text/plain": [
       "                变量名       重要性\n",
       "0     1.0MPa蒸汽进装置温度  0.068445\n",
       "1        火炬罐D-206液位  0.046716\n",
       "2      D-110底流化N2流量  0.044104\n",
       "3            稳定塔顶压力  0.041977\n",
       "4          燃料气进装置流量  0.041250\n",
       "..              ...       ...\n",
       "159         再生冷氮气流量  0.000000\n",
       "160          D121液面  0.000000\n",
       "161     ME-105过滤器压差  0.000000\n",
       "162         加热炉进口温度  0.000000\n",
       "163  P-105A/B出口总管流量  0.000000\n",
       "\n",
       "[164 rows x 2 columns]"
      ]
     },
     "execution_count": 16,
     "metadata": {},
     "output_type": "execute_result"
    }
   ],
   "source": [
    "feature_importtance.sort_values(by='重要性',ascending=False).reset_index(drop=True)"
   ]
  },
  {
   "cell_type": "code",
   "execution_count": 17,
   "metadata": {},
   "outputs": [],
   "source": [
    "feature_importtance.sort_values(by='重要性',ascending=False).reset_index(drop=True).to_excel('随机森林选取的特征重要性排序.xlsx',index=None)"
   ]
  },
  {
   "cell_type": "code",
   "execution_count": 115,
   "metadata": {},
   "outputs": [],
   "source": [
    "# a=[]\n",
    "# b=feature_importtance['重要性'].sort_values(ascending=False)[feature_importtance['重要性'].sort_values(ascending=False)>0].index\n",
    "# for i in b:\n",
    "#     a.append(feature_importtance['变量名'][i])"
   ]
  },
  {
   "cell_type": "code",
   "execution_count": 135,
   "metadata": {},
   "outputs": [],
   "source": [
    "#feature_importtance.sort_values(by='重要性',ascending=False).reset_index(drop=True)['重要性'].cumsum()[:45]"
   ]
  },
  {
   "cell_type": "code",
   "execution_count": 239,
   "metadata": {},
   "outputs": [],
   "source": [
    "#前67个变量累计特征重要性大于90%\n",
    "selected_features=feature_importtance.sort_values(by='重要性',ascending=False).reset_index(drop=True)[:67]['变量名']"
   ]
  },
  {
   "cell_type": "code",
   "execution_count": 240,
   "metadata": {},
   "outputs": [
    {
     "data": {
      "text/plain": [
       "0      1.0MPa蒸汽进装置温度\n",
       "1         火炬罐D-206液位\n",
       "2       D-110底流化N2流量\n",
       "3             稳定塔顶压力\n",
       "4           燃料气进装置流量\n",
       "           ...      \n",
       "62           蒸汽进装置压力\n",
       "63           加热炉炉膛压力\n",
       "64      D-203顶部出口管温度\n",
       "65    再生器顶部/再生器接收器差压\n",
       "66    S_ZORB AT-0001\n",
       "Name: 变量名, Length: 67, dtype: object"
      ]
     },
     "execution_count": 240,
     "metadata": {},
     "output_type": "execute_result"
    }
   ],
   "source": [
    "#feature_importtance.sort_values(by='重要性',ascending=False).reset_index(drop=True)['重要性'].cumsum()[:67]\n",
    "selected_features"
   ]
  },
  {
   "cell_type": "code",
   "execution_count": 314,
   "metadata": {},
   "outputs": [],
   "source": [
    "selected_features=list(selected_features)\n",
    "#去除非操作变量\n",
    "for i in data_copy.columns[:9]:\n",
    "    if i in selected_features:\n",
    "        selected_features.remove(i)"
   ]
  },
  {
   "cell_type": "code",
   "execution_count": 330,
   "metadata": {},
   "outputs": [],
   "source": [
    "test_score=[]\n",
    "selected=[]\n",
    "for i in selected_features:\n",
    "    #判断是否是第一个\n",
    "    if len(test_score)==0:\n",
    "        selected.append(i)\n",
    "        xtrain,xtest,ytrain,ytest=train_test_split(data_copy[selected],y,random_state=0)\n",
    "        rfreg=RandomForestRegressor().fit(xtrain,ytrain)\n",
    "        test_score.append(mean_squared_error(ytest,rfreg.predict(xtest)))\n",
    "        continue\n",
    "    selected.append(i)\n",
    "    xtrain,xtest,ytrain,ytest=train_test_split(data_copy[selected],y,random_state=0)\n",
    "    rfreg=RandomForestRegressor().fit(xtrain,ytrain)\n",
    "    test_score.append(mean_squared_error(ytest,rfreg.predict(xtest)))\n",
    "    #print(mean_squared_error(ytest,rfreg.predict(xtest)))\n",
    "    #print(test_score[-1]==mean_squared_error(ytest,rfreg.predict(xtest)))\n",
    "    if mean_squared_error(ytest,rfreg.predict(xtest))>test_score[-2]:\n",
    "        selected.remove(i)\n",
    "        test_score.remove(test_score[-1])\n",
    "    #print(len(selected))"
   ]
  },
  {
   "cell_type": "code",
   "execution_count": 331,
   "metadata": {},
   "outputs": [
    {
     "data": {
      "text/plain": [
       "['1.0MPa蒸汽进装置温度',\n",
       " '火炬罐D-206液位',\n",
       " '稳定塔顶压力',\n",
       " '原料换热器管程总管进口温度',\n",
       " '蒸汽进装置流量',\n",
       " '加氢裂化轻石脑油进装置流量',\n",
       " 'S_ZORB AT-0012',\n",
       " '氮气进装置流量',\n",
       " 'K101机出口压力',\n",
       " '循环水进装置流量']"
      ]
     },
     "execution_count": 331,
     "metadata": {},
     "output_type": "execute_result"
    }
   ],
   "source": [
    "selected"
   ]
  },
  {
   "cell_type": "code",
   "execution_count": 349,
   "metadata": {},
   "outputs": [
    {
     "data": {
      "image/png": "[encoded data removed]",
      "text/plain": [
       "<Figure size 2000x1000 with 1 Axes>"
      ]
     },
     "metadata": {
      "needs_background": "light"
     },
     "output_type": "display_data"
    }
   ],
   "source": [
    "plt.figure(figsize=(10,5),dpi=200)\n",
    "plt.plot(range(1,len(selected)+1),test_score)\n",
    "plt.savefig('第一次逐步变量选择过程中测试集均方误差的变化.png')"
   ]
  },
  {
   "cell_type": "code",
   "execution_count": 333,
   "metadata": {},
   "outputs": [
    {
     "data": {
      "text/plain": [
       "0.03843571012195092"
      ]
     },
     "execution_count": 333,
     "metadata": {},
     "output_type": "execute_result"
    }
   ],
   "source": [
    "min(test_score)"
   ]
  },
  {
   "cell_type": "code",
   "execution_count": 334,
   "metadata": {},
   "outputs": [
    {
     "data": {
      "text/plain": [
       "10"
      ]
     },
     "execution_count": 334,
     "metadata": {},
     "output_type": "execute_result"
    }
   ],
   "source": [
    "len(selected)"
   ]
  },
  {
   "cell_type": "code",
   "execution_count": 335,
   "metadata": {},
   "outputs": [],
   "source": [
    "b=data_copy[['1.0MPa蒸汽进装置温度',\n",
    " '火炬罐D-206液位',\n",
    " '稳定塔顶压力',\n",
    " '原料换热器管程总管进口温度',\n",
    " '蒸汽进装置流量',\n",
    " '加氢裂化轻石脑油进装置流量',\n",
    " 'S_ZORB AT-0012',\n",
    " '氮气进装置流量',\n",
    " 'K101机出口压力',\n",
    " '循环水进装置流量']]"
   ]
  },
  {
   "cell_type": "code",
   "execution_count": 336,
   "metadata": {},
   "outputs": [],
   "source": [
    "h=RandomForestRegressor().fit(b,y).feature_importances_"
   ]
  },
  {
   "cell_type": "code",
   "execution_count": 338,
   "metadata": {},
   "outputs": [
    {
     "data": {
      "text/plain": [
       "array([0.14001989, 0.09641824, 0.11416334, 0.14275274, 0.07902303,\n",
       "       0.06565899, 0.08381262, 0.12392787, 0.09725965, 0.05696362])"
      ]
     },
     "execution_count": 338,
     "metadata": {},
     "output_type": "execute_result"
    }
   ],
   "source": [
    "h"
   ]
  },
  {
   "cell_type": "code",
   "execution_count": 339,
   "metadata": {},
   "outputs": [
    {
     "data": {
      "text/plain": [
       "0.1427527368759683"
      ]
     },
     "execution_count": 339,
     "metadata": {},
     "output_type": "execute_result"
    }
   ],
   "source": [
    "max(h)"
   ]
  },
  {
   "cell_type": "code",
   "execution_count": 340,
   "metadata": {},
   "outputs": [],
   "source": [
    "feature_importtance2=pd.concat([pd.DataFrame(b.columns),pd.DataFrame(h)]\n",
    "          ,axis=1\n",
    "         )\n",
    "feature_importtance2.columns=['变量名','重要性']"
   ]
  },
  {
   "cell_type": "code",
   "execution_count": 342,
   "metadata": {},
   "outputs": [],
   "source": [
    "#feature_importtance2.to_excel('第二轮特征重要性.xlsx')"
   ]
  },
  {
   "cell_type": "code",
   "execution_count": 377,
   "metadata": {},
   "outputs": [],
   "source": [
    "feature_importtance2.sort_values(by='重要性',ascending=False)['变量名']\n",
    "test_score2=[]\n",
    "selected2=[]\n",
    "for i in feature_importtance2.sort_values(by='重要性',ascending=False)['变量名']:\n",
    "    #判断是否是第一个\n",
    "    if len(test_score2)==0:\n",
    "        selected2.append(i)\n",
    "        xtrain,xtest,ytrain,ytest=train_test_split(data_copy[selected2],y,random_state=0)\n",
    "        rfreg=RandomForestRegressor().fit(xtrain,ytrain)\n",
    "        test_score2.append(mean_squared_error(ytest,rfreg.predict(xtest)))\n",
    "        continue\n",
    "    selected2.append(i)\n",
    "    xtrain,xtest,ytrain,ytest=train_test_split(data_copy[selected2],y,random_state=0)\n",
    "    rfreg=RandomForestRegressor().fit(xtrain,ytrain)\n",
    "    test_score2.append(mean_squared_error(ytest,rfreg.predict(xtest)))\n",
    "    #print(mean_squared_error(ytest,rfreg.predict(xtest)))\n",
    "    #print(test_score[-1]==mean_squared_error(ytest,rfreg.predict(xtest)))\n",
    "    if mean_squared_error(ytest,rfreg.predict(xtest))>test_score2[-2]:\n",
    "        selected2.remove(i)\n",
    "        test_score2.remove(test_score2[-1])\n",
    "    #print(len(selected))"
   ]
  },
  {
   "cell_type": "code",
   "execution_count": 378,
   "metadata": {},
   "outputs": [
    {
     "data": {
      "text/plain": [
       "['原料换热器管程总管进口温度',\n",
       " '1.0MPa蒸汽进装置温度',\n",
       " '氮气进装置流量',\n",
       " 'K101机出口压力',\n",
       " '蒸汽进装置流量',\n",
       " '加氢裂化轻石脑油进装置流量']"
      ]
     },
     "execution_count": 378,
     "metadata": {},
     "output_type": "execute_result"
    }
   ],
   "source": [
    "selected2"
   ]
  },
  {
   "cell_type": "code",
   "execution_count": 379,
   "metadata": {},
   "outputs": [
    {
     "data": {
      "text/plain": [
       "[0.06891689231707279,\n",
       " 0.04551341487804886,\n",
       " 0.0419329499999998,\n",
       " 0.03877760243902427,\n",
       " 0.038141121585365596,\n",
       " 0.03744002402438994]"
      ]
     },
     "execution_count": 379,
     "metadata": {},
     "output_type": "execute_result"
    }
   ],
   "source": [
    "test_score2"
   ]
  },
  {
   "cell_type": "code",
   "execution_count": 380,
   "metadata": {},
   "outputs": [
    {
     "data": {
      "image/png": "[encoded data removed]",
      "text/plain": [
       "<Figure size 2000x1000 with 1 Axes>"
      ]
     },
     "metadata": {
      "needs_background": "light"
     },
     "output_type": "display_data"
    }
   ],
   "source": [
    "plt.figure(figsize=(10,5),dpi=200)\n",
    "plt.plot(range(1,len(selected2)+1),test_score2)\n",
    "plt.savefig('第二次逐步变量选择过程中测试集均方误差的变化.png')"
   ]
  },
  {
   "cell_type": "code",
   "execution_count": 388,
   "metadata": {},
   "outputs": [
    {
     "data": {
      "text/plain": [
       "['原料换热器管程总管进口温度',\n",
       " '1.0MPa蒸汽进装置温度',\n",
       " '氮气进装置流量',\n",
       " 'K101机出口压力',\n",
       " '蒸汽进装置流量',\n",
       " '加氢裂化轻石脑油进装置流量',\n",
       " '辛烷值1RON',\n",
       " '硫含量2,μg/g']"
      ]
     },
     "execution_count": 388,
     "metadata": {},
     "output_type": "execute_result"
    }
   ],
   "source": [
    "selected2"
   ]
  },
  {
   "cell_type": "code",
   "execution_count": 384,
   "metadata": {},
   "outputs": [],
   "source": [
    "selected2.append(data.columns[1])\n",
    "selected2.append(data.columns[7])"
   ]
  },
  {
   "cell_type": "code",
   "execution_count": 386,
   "metadata": {},
   "outputs": [
    {
     "data": {
      "text/plain": [
       "8"
      ]
     },
     "execution_count": 386,
     "metadata": {},
     "output_type": "execute_result"
    }
   ],
   "source": []
  },
  {
   "cell_type": "code",
   "execution_count": 368,
   "metadata": {},
   "outputs": [],
   "source": [
    "pd.read_excel(r'/Users/zhongrunping/Desktop/jupyter文件夹/数学建模/第二问/253个变量原始数据.xlsx',encoding='gbk').iloc[:,2:][selected2]"
   ]
  },
  {
   "cell_type": "code",
   "execution_count": 370,
   "metadata": {},
   "outputs": [],
   "source": [
    "final"
   ]
  },
  {
   "cell_type": "code",
   "execution_count": null,
   "metadata": {},
   "outputs": [],
   "source": []
  }
 ],
 "metadata": {
  "kernelspec": {
   "display_name": "Python 3",
   "language": "python",
   "name": "python3"
  },
  "language_info": {
   "codemirror_mode": {
    "name": "ipython",
    "version": 3
   },
   "file_extension": ".py",
   "mimetype": "text/x-python",
   "name": "python",
   "nbconvert_exporter": "python",
   "pygments_lexer": "ipython3",
   "version": "3.8.3"
  }
 },
 "nbformat": 4,
 "nbformat_minor": 4
}
