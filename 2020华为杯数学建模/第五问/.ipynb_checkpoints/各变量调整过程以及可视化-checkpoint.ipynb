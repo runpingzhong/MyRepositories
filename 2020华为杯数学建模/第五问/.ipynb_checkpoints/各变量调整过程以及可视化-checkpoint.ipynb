{
 "cells": [
  {
   "cell_type": "code",
   "execution_count": 1,
   "metadata": {},
   "outputs": [],
   "source": [
    "import numpy as np\n",
    "import pandas as pd\n",
    "import matplotlib.pyplot as plt\n",
    "from sklearn.svm import SVR\n",
    "from sklearn.model_selection import train_test_split,GridSearchCV\n",
    "from sklearn.metrics import mean_squared_error,mean_absolute_error\n",
    "from sklearn.linear_model import LinearRegression\n",
    "from sklearn.preprocessing import PolynomialFeatures\n",
    "plt.rcParams[\"font.family\"] = 'Arial Unicode MS'\n",
    "plt.rcParams['axes.unicode_minus'] = False"
   ]
  },
  {
   "cell_type": "code",
   "execution_count": 2,
   "metadata": {},
   "outputs": [
    {
     "data": {
      "text/html": [
       "<div>\n",
       "<style scoped>\n",
       "    .dataframe tbody tr th:only-of-type {\n",
       "        vertical-align: middle;\n",
       "    }\n",
       "\n",
       "    .dataframe tbody tr th {\n",
       "        vertical-align: top;\n",
       "    }\n",
       "\n",
       "    .dataframe thead th {\n",
       "        text-align: right;\n",
       "    }\n",
       "</style>\n",
       "<table border=\"1\" class=\"dataframe\">\n",
       "  <thead>\n",
       "    <tr style=\"text-align: right;\">\n",
       "      <th></th>\n",
       "      <th>原料换热器管程总管进口温度</th>\n",
       "      <th>1.0MPa蒸汽进装置温度</th>\n",
       "      <th>氮气进装置流量</th>\n",
       "      <th>稳定塔顶压力</th>\n",
       "      <th>K101机出口压力</th>\n",
       "      <th>蒸汽进装置流量</th>\n",
       "      <th>加氢裂化轻石脑油进装置流量</th>\n",
       "      <th>辛烷值RON</th>\n",
       "      <th>硫含量</th>\n",
       "    </tr>\n",
       "  </thead>\n",
       "  <tbody>\n",
       "    <tr>\n",
       "      <th>0</th>\n",
       "      <td>55.613933</td>\n",
       "      <td>196.993645</td>\n",
       "      <td>476.208445</td>\n",
       "      <td>0.652138</td>\n",
       "      <td>3.131928</td>\n",
       "      <td>1458.339950</td>\n",
       "      <td>6368.74700</td>\n",
       "      <td>90.6</td>\n",
       "      <td>3.2</td>\n",
       "    </tr>\n",
       "    <tr>\n",
       "      <th>1</th>\n",
       "      <td>56.461392</td>\n",
       "      <td>197.485060</td>\n",
       "      <td>453.687235</td>\n",
       "      <td>0.652110</td>\n",
       "      <td>3.131915</td>\n",
       "      <td>1142.179200</td>\n",
       "      <td>6360.64530</td>\n",
       "      <td>90.5</td>\n",
       "      <td>3.2</td>\n",
       "    </tr>\n",
       "    <tr>\n",
       "      <th>2</th>\n",
       "      <td>54.698909</td>\n",
       "      <td>201.774005</td>\n",
       "      <td>454.138060</td>\n",
       "      <td>0.652395</td>\n",
       "      <td>3.129382</td>\n",
       "      <td>1025.874790</td>\n",
       "      <td>6504.96490</td>\n",
       "      <td>90.7</td>\n",
       "      <td>3.2</td>\n",
       "    </tr>\n",
       "    <tr>\n",
       "      <th>3</th>\n",
       "      <td>57.883680</td>\n",
       "      <td>196.421215</td>\n",
       "      <td>467.951720</td>\n",
       "      <td>0.652089</td>\n",
       "      <td>3.130650</td>\n",
       "      <td>967.852340</td>\n",
       "      <td>6506.82495</td>\n",
       "      <td>90.4</td>\n",
       "      <td>3.2</td>\n",
       "    </tr>\n",
       "    <tr>\n",
       "      <th>4</th>\n",
       "      <td>57.303791</td>\n",
       "      <td>192.642635</td>\n",
       "      <td>470.470510</td>\n",
       "      <td>0.652213</td>\n",
       "      <td>3.128421</td>\n",
       "      <td>932.608515</td>\n",
       "      <td>6560.24225</td>\n",
       "      <td>89.6</td>\n",
       "      <td>3.2</td>\n",
       "    </tr>\n",
       "  </tbody>\n",
       "</table>\n",
       "</div>"
      ],
      "text/plain": [
       "   原料换热器管程总管进口温度  1.0MPa蒸汽进装置温度     氮气进装置流量    稳定塔顶压力  K101机出口压力      蒸汽进装置流量  \\\n",
       "0      55.613933     196.993645  476.208445  0.652138   3.131928  1458.339950   \n",
       "1      56.461392     197.485060  453.687235  0.652110   3.131915  1142.179200   \n",
       "2      54.698909     201.774005  454.138060  0.652395   3.129382  1025.874790   \n",
       "3      57.883680     196.421215  467.951720  0.652089   3.130650   967.852340   \n",
       "4      57.303791     192.642635  470.470510  0.652213   3.128421   932.608515   \n",
       "\n",
       "   加氢裂化轻石脑油进装置流量  辛烷值RON  硫含量  \n",
       "0     6368.74700    90.6  3.2  \n",
       "1     6360.64530    90.5  3.2  \n",
       "2     6504.96490    90.7  3.2  \n",
       "3     6506.82495    90.4  3.2  \n",
       "4     6560.24225    89.6  3.2  "
      ]
     },
     "execution_count": 2,
     "metadata": {},
     "output_type": "execute_result"
    }
   ],
   "source": [
    "train=pd.read_excel('../第四问/样本数据.xlsx',index_col=0)\n",
    "train.head()"
   ]
  },
  {
   "cell_type": "code",
   "execution_count": 3,
   "metadata": {},
   "outputs": [
    {
     "data": {
      "text/plain": [
       "0      1.25\n",
       "1      1.28\n",
       "2      1.35\n",
       "3      1.25\n",
       "4      1.15\n",
       "       ... \n",
       "320    1.28\n",
       "321    1.38\n",
       "322    1.38\n",
       "323    1.18\n",
       "324    1.38\n",
       "Name: RON损失\\n（不是变量）, Length: 325, dtype: float64"
      ]
     },
     "execution_count": 3,
     "metadata": {},
     "output_type": "execute_result"
    }
   ],
   "source": [
    "#读取因变量\n",
    "y=pd.read_excel('/Users/zhongrunping/Desktop/jupyter文件夹/数学建模/RON损失(不是变量).xlsx')[::-1].reset_index(drop=True)\n",
    "y=y.iloc[:,2]\n",
    "y"
   ]
  },
  {
   "cell_type": "code",
   "execution_count": 4,
   "metadata": {},
   "outputs": [
    {
     "data": {
      "text/plain": [
       "0.15308364807468453"
      ]
     },
     "execution_count": 4,
     "metadata": {},
     "output_type": "execute_result"
    }
   ],
   "source": [
    "#训练模型\n",
    "svr=SVR(kernel='poly',coef0=5,degree=3,cache_size=800).fit(train,y)\n",
    "mean_absolute_error(y,svr.predict(train))\n",
    "#训练平均的绝对误差0.15"
   ]
  },
  {
   "cell_type": "code",
   "execution_count": 5,
   "metadata": {},
   "outputs": [
    {
     "data": {
      "text/plain": [
       "325"
      ]
     },
     "execution_count": 5,
     "metadata": {},
     "output_type": "execute_result"
    }
   ],
   "source": [
    "data=train.copy()\n",
    "#硫含量大于5的 设置成5\n",
    "data['硫含量']=data['硫含量'].apply(lambda x:5 if x>5 else x)\n",
    "data=data.reset_index(drop=True)\n",
    "len(data)"
   ]
  },
  {
   "cell_type": "code",
   "execution_count": 6,
   "metadata": {},
   "outputs": [],
   "source": [
    "#硫和辛烷值的模型\n",
    "value=pd.DataFrame(data.iloc[:,-2])  #辛烷值\n",
    "sulfur=pd.DataFrame(data.iloc[:,-1])  #硫"
   ]
  },
  {
   "cell_type": "code",
   "execution_count": 7,
   "metadata": {},
   "outputs": [
    {
     "data": {
      "text/plain": [
       "Text(0, 0.5, '硫含量')"
      ]
     },
     "execution_count": 7,
     "metadata": {},
     "output_type": "execute_result"
    },
    {
     "data": {
      "image/png": "[encoded data removed]",
      "text/plain": [
       "<Figure size 1000x500 with 1 Axes>"
      ]
     },
     "metadata": {
      "needs_background": "light"
     },
     "output_type": "display_data"
    }
   ],
   "source": [
    "plt.figure(figsize=(10,5),dpi=100)\n",
    "plt.scatter(value,sulfur)\n",
    "plt.xlabel('辛烷值')\n",
    "plt.ylabel(sulfur.columns[0])\n",
    "#plt.savefig('辛烷值和硫含量的散点图.png')"
   ]
  },
  {
   "cell_type": "code",
   "execution_count": 8,
   "metadata": {},
   "outputs": [
    {
     "data": {
      "text/plain": [
       "(array([0.14751541]), -9.513898007280694)"
      ]
     },
     "execution_count": 8,
     "metadata": {},
     "output_type": "execute_result"
    }
   ],
   "source": [
    "#用线性模型拟合\n",
    "lr_reg=LinearRegression().fit(value,sulfur)\n",
    "lr_reg.coef_[0],lr_reg.intercept_[0]  #系数和截距"
   ]
  },
  {
   "cell_type": "code",
   "execution_count": 9,
   "metadata": {},
   "outputs": [
    {
     "data": {
      "text/plain": [
       "0.6308727692987519"
      ]
     },
     "execution_count": 9,
     "metadata": {},
     "output_type": "execute_result"
    }
   ],
   "source": [
    "#平均绝对误差\n",
    "mean_absolute_error(sulfur,lr_reg.predict(value))"
   ]
  },
  {
   "cell_type": "code",
   "execution_count": 10,
   "metadata": {},
   "outputs": [],
   "source": [
    "sulfur_and_value=pd.DataFrame(lr_reg.predict(value),columns=['预测值'])\n",
    "sulfur_and_value.insert(0,'实际值',sulfur)\n",
    "sulfur_and_value.insert(0,'辛烷值',value)\n",
    "sulfur_and_value.to_excel('辛烷值和硫含量的预测值和实际值.xlsx',index=None)"
   ]
  },
  {
   "cell_type": "code",
   "execution_count": 13,
   "metadata": {},
   "outputs": [],
   "source": [
    "# 第一步 一个个调 读取变量调整过程\n",
    "for i in range(7):\n",
    "    process=pd.read_excel('各变量调整过程.xlsx',sheet_name=i).iloc[:,1:]\n",
    "    result=svr.predict(process)\n",
    "    process['预测的辛烷值损失']=result\n",
    "    process['预测的辛烷值']=process['辛烷值1RON']-process['预测的辛烷值损失']\n",
    "    process['预测的硫含量']=lr_reg.predict(np.array(process['预测的辛烷值']).reshape(-1,1))\n",
    "    excel_name=train.columns[i]+'变化过程中硫含量和辛烷值'+'.xlsx'\n",
    "    process.to_excel(excel_name,index=None)  #写入本地\n",
    "    plt.figure(figsize=(20,5),dpi=100) \n",
    "    plt.subplot(1,2,1)\n",
    "    plt.plot(range(1,len(result)+1),result,label='RON损失')\n",
    "    plt.ylabel('RON损失')\n",
    "    plt.xlabel(train.columns[i])\n",
    "    plt.subplot(1,2,2)\n",
    "    plt.plot(range(1,len(result)+1),process['预测的硫含量'],label='硫含量')\n",
    "    plt.xlabel(train.columns[i])\n",
    "    plt.ylabel('硫含量')\n",
    "    figure_name=train.columns[i]+'变化过程中硫和RON变化.png'\n",
    "    plt.savefig(figure_name)"
   ]
  },
  {
   "cell_type": "code",
   "execution_count": 17,
   "metadata": {},
   "outputs": [],
   "source": [
    "#第二步 从辛烷值最大的变量开始调整\n",
    "final=pd.DataFrame()\n",
    "for i in range(1,8):\n",
    "    step=pd.read_excel('各个变量单独调整后预测的辛烷值和硫含量.xlsx',sheet_name=i).iloc[:,1:]\n",
    "    result=svr.predict(step)\n",
    "    step['预测的辛烷值损失']=result\n",
    "    step['预测的辛烷值']=step['辛烷值1RON']-step['预测的辛烷值损失']\n",
    "    step['预测的硫含量']=lr_reg.predict(np.array(step['预测的辛烷值']).reshape(-1,1))\n",
    "    excel_name=train.columns[i]+'变化过程中硫含量和辛烷值'+'.xlsx'\n",
    "    #process.to_excel(excel_name,index=None)  #写入本地\n",
    "    final=pd.concat([final,step.iloc[-1:,:]],axis=0)\n",
    "    plt.figure(figsize=(20,5),dpi=100) \n",
    "    plt.subplot(1,2,1)\n",
    "    plt.plot(range(1,len(result)+1),result,label='RON损失')\n",
    "    plt.ylabel('RON损失')\n",
    "    plt.xlabel(train.columns[i])\n",
    "    plt.subplot(1,2,2)\n",
    "    plt.plot(range(1,len(result)+1),step['预测的硫含量'],label='硫含量')\n",
    "    plt.xlabel(train.columns[i])\n",
    "    plt.ylabel('硫含量')\n",
    "    figure_name=train.columns[i]+'变化过程中硫和RON变化.png'\n",
    "    plt.savefig(figure_name)\n",
    "    #plt.show()"
   ]
  },
  {
   "cell_type": "code",
   "execution_count": null,
   "metadata": {},
   "outputs": [],
   "source": []
  },
  {
   "cell_type": "code",
   "execution_count": null,
   "metadata": {},
   "outputs": [],
   "source": []
  }
 ],
 "metadata": {
  "kernelspec": {
   "display_name": "Python 3",
   "language": "python",
   "name": "python3"
  },
  "language_info": {
   "codemirror_mode": {
    "name": "ipython",
    "version": 3
   },
   "file_extension": ".py",
   "mimetype": "text/x-python",
   "name": "python",
   "nbconvert_exporter": "python",
   "pygments_lexer": "ipython3",
   "version": "3.8.3"
  }
 },
 "nbformat": 4,
 "nbformat_minor": 4
}
