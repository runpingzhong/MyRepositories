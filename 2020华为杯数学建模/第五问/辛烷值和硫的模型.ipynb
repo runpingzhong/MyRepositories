{
 "cells": [
  {
   "cell_type": "code",
   "execution_count": 106,
   "metadata": {},
   "outputs": [],
   "source": [
    "import numpy as np\n",
    "import pandas as pd\n",
    "import matplotlib.pyplot as plt\n",
    "from sklearn.svm import SVR\n",
    "from sklearn.model_selection import train_test_split,GridSearchCV\n",
    "from sklearn.metrics import mean_squared_error,mean_absolute_error\n",
    "#plt.rcParams[\"font.family\"] = 'Arial Unicode MS'\n",
    "#plt.rcParams['axes.unicode_minus'] = False"
   ]
  },
  {
   "cell_type": "code",
   "execution_count": 107,
   "metadata": {},
   "outputs": [
    {
     "data": {
      "text/html": [
       "<div>\n",
       "<style scoped>\n",
       "    .dataframe tbody tr th:only-of-type {\n",
       "        vertical-align: middle;\n",
       "    }\n",
       "\n",
       "    .dataframe tbody tr th {\n",
       "        vertical-align: top;\n",
       "    }\n",
       "\n",
       "    .dataframe thead th {\n",
       "        text-align: right;\n",
       "    }\n",
       "</style>\n",
       "<table border=\"1\" class=\"dataframe\">\n",
       "  <thead>\n",
       "    <tr style=\"text-align: right;\">\n",
       "      <th></th>\n",
       "      <th>原料换热器管程总管进口温度</th>\n",
       "      <th>1.0MPa蒸汽进装置温度</th>\n",
       "      <th>氮气进装置流量</th>\n",
       "      <th>稳定塔顶压力</th>\n",
       "      <th>K101机出口压力</th>\n",
       "      <th>蒸汽进装置流量</th>\n",
       "      <th>加氢裂化轻石脑油进装置流量</th>\n",
       "      <th>辛烷值1RON</th>\n",
       "      <th>硫含量2,μg/g</th>\n",
       "    </tr>\n",
       "  </thead>\n",
       "  <tbody>\n",
       "    <tr>\n",
       "      <th>0</th>\n",
       "      <td>55.613933</td>\n",
       "      <td>196.993645</td>\n",
       "      <td>476.208445</td>\n",
       "      <td>0.652138</td>\n",
       "      <td>3.131928</td>\n",
       "      <td>1458.339950</td>\n",
       "      <td>6368.74700</td>\n",
       "      <td>90.6</td>\n",
       "      <td>3.2</td>\n",
       "    </tr>\n",
       "    <tr>\n",
       "      <th>1</th>\n",
       "      <td>56.461392</td>\n",
       "      <td>197.485060</td>\n",
       "      <td>453.687235</td>\n",
       "      <td>0.652110</td>\n",
       "      <td>3.131915</td>\n",
       "      <td>1142.179200</td>\n",
       "      <td>6360.64530</td>\n",
       "      <td>90.5</td>\n",
       "      <td>3.2</td>\n",
       "    </tr>\n",
       "    <tr>\n",
       "      <th>2</th>\n",
       "      <td>54.698909</td>\n",
       "      <td>201.774005</td>\n",
       "      <td>454.138060</td>\n",
       "      <td>0.652395</td>\n",
       "      <td>3.129382</td>\n",
       "      <td>1025.874790</td>\n",
       "      <td>6504.96490</td>\n",
       "      <td>90.7</td>\n",
       "      <td>3.2</td>\n",
       "    </tr>\n",
       "    <tr>\n",
       "      <th>3</th>\n",
       "      <td>57.883680</td>\n",
       "      <td>196.421215</td>\n",
       "      <td>467.951720</td>\n",
       "      <td>0.652089</td>\n",
       "      <td>3.130650</td>\n",
       "      <td>967.852340</td>\n",
       "      <td>6506.82495</td>\n",
       "      <td>90.4</td>\n",
       "      <td>3.2</td>\n",
       "    </tr>\n",
       "    <tr>\n",
       "      <th>4</th>\n",
       "      <td>57.303791</td>\n",
       "      <td>192.642635</td>\n",
       "      <td>470.470510</td>\n",
       "      <td>0.652213</td>\n",
       "      <td>3.128421</td>\n",
       "      <td>932.608515</td>\n",
       "      <td>6560.24225</td>\n",
       "      <td>89.6</td>\n",
       "      <td>3.2</td>\n",
       "    </tr>\n",
       "  </tbody>\n",
       "</table>\n",
       "</div>"
      ],
      "text/plain": [
       "   原料换热器管程总管进口温度  1.0MPa蒸汽进装置温度     氮气进装置流量    稳定塔顶压力  K101机出口压力      蒸汽进装置流量  \\\n",
       "0      55.613933     196.993645  476.208445  0.652138   3.131928  1458.339950   \n",
       "1      56.461392     197.485060  453.687235  0.652110   3.131915  1142.179200   \n",
       "2      54.698909     201.774005  454.138060  0.652395   3.129382  1025.874790   \n",
       "3      57.883680     196.421215  467.951720  0.652089   3.130650   967.852340   \n",
       "4      57.303791     192.642635  470.470510  0.652213   3.128421   932.608515   \n",
       "\n",
       "   加氢裂化轻石脑油进装置流量  辛烷值1RON  硫含量2,μg/g  \n",
       "0     6368.74700     90.6        3.2  \n",
       "1     6360.64530     90.5        3.2  \n",
       "2     6504.96490     90.7        3.2  \n",
       "3     6506.82495     90.4        3.2  \n",
       "4     6560.24225     89.6        3.2  "
      ]
     },
     "execution_count": 107,
     "metadata": {},
     "output_type": "execute_result"
    }
   ],
   "source": [
    "data=pd.read_excel('../第四问/样本数据.xlsx',index_col=0)\n",
    "data.head()"
   ]
  },
  {
   "cell_type": "code",
   "execution_count": 108,
   "metadata": {},
   "outputs": [],
   "source": [
    "x=np.array(data['辛烷值1RON'])\n",
    "y=data['硫含量2,μg/g']"
   ]
  },
  {
   "cell_type": "code",
   "execution_count": 109,
   "metadata": {},
   "outputs": [
    {
     "data": {
      "text/plain": [
       "<matplotlib.collections.PathCollection at 0x1288a4d60>"
      ]
     },
     "execution_count": 109,
     "metadata": {},
     "output_type": "execute_result"
    },
    {
     "data": {
      "image/png": "[encoded data removed]",
      "text/plain": [
       "<Figure size 432x288 with 1 Axes>"
      ]
     },
     "metadata": {
      "needs_background": "light"
     },
     "output_type": "display_data"
    }
   ],
   "source": [
    "plt.scatter(x[y[y!=3.2].index],y[y!=3.2])"
   ]
  },
  {
   "cell_type": "code",
   "execution_count": 110,
   "metadata": {
    "scrolled": true
   },
   "outputs": [
    {
     "data": {
      "image/png": "[encoded data removed]",
      "text/plain": [
       "<Figure size 720x360 with 1 Axes>"
      ]
     },
     "metadata": {
      "needs_background": "light"
     },
     "output_type": "display_data"
    }
   ],
   "source": [
    "plt.figure(figsize=(10,5))\n",
    "plt.scatter(x,y)\n",
    "plt.savefig('辛烷值和硫含量的散点图.png')"
   ]
  },
  {
   "cell_type": "code",
   "execution_count": 111,
   "metadata": {},
   "outputs": [],
   "source": [
    "from sklearn.linear_model import LinearRegression\n",
    "from sklearn.preprocessing import PolynomialFeatures"
   ]
  },
  {
   "cell_type": "code",
   "execution_count": 112,
   "metadata": {},
   "outputs": [],
   "source": [
    "xtrain,xtest,ytrain,ytest=train_test_split(pd.DataFrame(x),pd.DataFrame(y))"
   ]
  },
  {
   "cell_type": "code",
   "execution_count": 113,
   "metadata": {},
   "outputs": [],
   "source": [
    "linear_model=LinearRegression().fit(xtrain,ytrain)"
   ]
  },
  {
   "cell_type": "code",
   "execution_count": 114,
   "metadata": {},
   "outputs": [
    {
     "data": {
      "text/plain": [
       "1.0932579442110804"
      ]
     },
     "execution_count": 114,
     "metadata": {},
     "output_type": "execute_result"
    }
   ],
   "source": [
    "mean_absolute_error(ytrain,linear_model.predict(xtrain))"
   ]
  },
  {
   "cell_type": "code",
   "execution_count": 117,
   "metadata": {},
   "outputs": [
    {
     "data": {
      "text/plain": [
       "array([[0.29307099]])"
      ]
     },
     "execution_count": 117,
     "metadata": {},
     "output_type": "execute_result"
    }
   ],
   "source": [
    "linear_model.coef_"
   ]
  },
  {
   "cell_type": "code",
   "execution_count": null,
   "metadata": {},
   "outputs": [],
   "source": []
  }
 ],
 "metadata": {
  "kernelspec": {
   "display_name": "Python 3",
   "language": "python",
   "name": "python3"
  },
  "language_info": {
   "codemirror_mode": {
    "name": "ipython",
    "version": 3
   },
   "file_extension": ".py",
   "mimetype": "text/x-python",
   "name": "python",
   "nbconvert_exporter": "python",
   "pygments_lexer": "ipython3",
   "version": "3.8.3"
  }
 },
 "nbformat": 4,
 "nbformat_minor": 4
}
