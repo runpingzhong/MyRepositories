{
 "cells": [
  {
   "cell_type": "code",
   "execution_count": 1,
   "metadata": {},
   "outputs": [],
   "source": [
    "import numpy as np\n",
    "import pandas as pd\n",
    "import matplotlib.pyplot as plt\n",
    "from sklearn.svm import SVR\n",
    "from sklearn.model_selection import train_test_split,GridSearchCV\n",
    "from sklearn.metrics import mean_squared_error,mean_absolute_error\n",
    "#plt.rcParams[\"font.family\"] = 'Arial Unicode MS'\n",
    "#plt.rcParams['axes.unicode_minus'] = False"
   ]
  },
  {
   "cell_type": "code",
   "execution_count": 2,
   "metadata": {},
   "outputs": [
    {
     "data": {
      "text/html": [
       "<div>\n",
       "<style scoped>\n",
       "    .dataframe tbody tr th:only-of-type {\n",
       "        vertical-align: middle;\n",
       "    }\n",
       "\n",
       "    .dataframe tbody tr th {\n",
       "        vertical-align: top;\n",
       "    }\n",
       "\n",
       "    .dataframe thead th {\n",
       "        text-align: right;\n",
       "    }\n",
       "</style>\n",
       "<table border=\"1\" class=\"dataframe\">\n",
       "  <thead>\n",
       "    <tr style=\"text-align: right;\">\n",
       "      <th></th>\n",
       "      <th>原料换热器管程总管进口温度</th>\n",
       "      <th>1.0MPa蒸汽进装置温度</th>\n",
       "      <th>氮气进装置流量</th>\n",
       "      <th>稳定塔顶压力</th>\n",
       "      <th>K101机出口压力</th>\n",
       "      <th>蒸汽进装置流量</th>\n",
       "      <th>加氢裂化轻石脑油进装置流量</th>\n",
       "      <th>辛烷值1RON</th>\n",
       "      <th>硫含量2,μg/g</th>\n",
       "    </tr>\n",
       "  </thead>\n",
       "  <tbody>\n",
       "    <tr>\n",
       "      <th>0</th>\n",
       "      <td>55.613933</td>\n",
       "      <td>196.993645</td>\n",
       "      <td>476.208445</td>\n",
       "      <td>0.652138</td>\n",
       "      <td>3.131928</td>\n",
       "      <td>1458.339950</td>\n",
       "      <td>6368.74700</td>\n",
       "      <td>90.6</td>\n",
       "      <td>3.2</td>\n",
       "    </tr>\n",
       "    <tr>\n",
       "      <th>1</th>\n",
       "      <td>56.461392</td>\n",
       "      <td>197.485060</td>\n",
       "      <td>453.687235</td>\n",
       "      <td>0.652110</td>\n",
       "      <td>3.131915</td>\n",
       "      <td>1142.179200</td>\n",
       "      <td>6360.64530</td>\n",
       "      <td>90.5</td>\n",
       "      <td>3.2</td>\n",
       "    </tr>\n",
       "    <tr>\n",
       "      <th>2</th>\n",
       "      <td>54.698909</td>\n",
       "      <td>201.774005</td>\n",
       "      <td>454.138060</td>\n",
       "      <td>0.652395</td>\n",
       "      <td>3.129382</td>\n",
       "      <td>1025.874790</td>\n",
       "      <td>6504.96490</td>\n",
       "      <td>90.7</td>\n",
       "      <td>3.2</td>\n",
       "    </tr>\n",
       "    <tr>\n",
       "      <th>3</th>\n",
       "      <td>57.883680</td>\n",
       "      <td>196.421215</td>\n",
       "      <td>467.951720</td>\n",
       "      <td>0.652089</td>\n",
       "      <td>3.130650</td>\n",
       "      <td>967.852340</td>\n",
       "      <td>6506.82495</td>\n",
       "      <td>90.4</td>\n",
       "      <td>3.2</td>\n",
       "    </tr>\n",
       "    <tr>\n",
       "      <th>4</th>\n",
       "      <td>57.303791</td>\n",
       "      <td>192.642635</td>\n",
       "      <td>470.470510</td>\n",
       "      <td>0.652213</td>\n",
       "      <td>3.128421</td>\n",
       "      <td>932.608515</td>\n",
       "      <td>6560.24225</td>\n",
       "      <td>89.6</td>\n",
       "      <td>3.2</td>\n",
       "    </tr>\n",
       "  </tbody>\n",
       "</table>\n",
       "</div>"
      ],
      "text/plain": [
       "   原料换热器管程总管进口温度  1.0MPa蒸汽进装置温度     氮气进装置流量    稳定塔顶压力  K101机出口压力      蒸汽进装置流量  \\\n",
       "0      55.613933     196.993645  476.208445  0.652138   3.131928  1458.339950   \n",
       "1      56.461392     197.485060  453.687235  0.652110   3.131915  1142.179200   \n",
       "2      54.698909     201.774005  454.138060  0.652395   3.129382  1025.874790   \n",
       "3      57.883680     196.421215  467.951720  0.652089   3.130650   967.852340   \n",
       "4      57.303791     192.642635  470.470510  0.652213   3.128421   932.608515   \n",
       "\n",
       "   加氢裂化轻石脑油进装置流量  辛烷值1RON  硫含量2,μg/g  \n",
       "0     6368.74700     90.6        3.2  \n",
       "1     6360.64530     90.5        3.2  \n",
       "2     6504.96490     90.7        3.2  \n",
       "3     6506.82495     90.4        3.2  \n",
       "4     6560.24225     89.6        3.2  "
      ]
     },
     "execution_count": 2,
     "metadata": {},
     "output_type": "execute_result"
    }
   ],
   "source": [
    "traing=pd.read_excel('样本数据.xlsx',index_col=0)\n",
    "traing.head()"
   ]
  },
  {
   "cell_type": "code",
   "execution_count": 15,
   "metadata": {},
   "outputs": [
    {
     "data": {
      "text/html": [
       "<div>\n",
       "<style scoped>\n",
       "    .dataframe tbody tr th:only-of-type {\n",
       "        vertical-align: middle;\n",
       "    }\n",
       "\n",
       "    .dataframe tbody tr th {\n",
       "        vertical-align: top;\n",
       "    }\n",
       "\n",
       "    .dataframe thead th {\n",
       "        text-align: right;\n",
       "    }\n",
       "</style>\n",
       "<table border=\"1\" class=\"dataframe\">\n",
       "  <thead>\n",
       "    <tr style=\"text-align: right;\">\n",
       "      <th></th>\n",
       "      <th>位号</th>\n",
       "      <th>最小值</th>\n",
       "      <th>最大值</th>\n",
       "    </tr>\n",
       "  </thead>\n",
       "  <tbody>\n",
       "    <tr>\n",
       "      <th>0</th>\n",
       "      <td>原料换热器管程总管进口温度</td>\n",
       "      <td>40.00</td>\n",
       "      <td>80.00</td>\n",
       "    </tr>\n",
       "    <tr>\n",
       "      <th>1</th>\n",
       "      <td>1.0MPa蒸汽进装置温度</td>\n",
       "      <td>150.00</td>\n",
       "      <td>250.00</td>\n",
       "    </tr>\n",
       "    <tr>\n",
       "      <th>2</th>\n",
       "      <td>氮气进装置流量</td>\n",
       "      <td>250.00</td>\n",
       "      <td>800.00</td>\n",
       "    </tr>\n",
       "    <tr>\n",
       "      <th>3</th>\n",
       "      <td>稳定塔顶压力</td>\n",
       "      <td>0.60</td>\n",
       "      <td>0.70</td>\n",
       "    </tr>\n",
       "    <tr>\n",
       "      <th>4</th>\n",
       "      <td>K101机出口压力</td>\n",
       "      <td>2.55</td>\n",
       "      <td>3.55</td>\n",
       "    </tr>\n",
       "    <tr>\n",
       "      <th>5</th>\n",
       "      <td>蒸汽进装置流量</td>\n",
       "      <td>0.00</td>\n",
       "      <td>3500.00</td>\n",
       "    </tr>\n",
       "    <tr>\n",
       "      <th>6</th>\n",
       "      <td>加氢裂化轻石脑油进装置流量</td>\n",
       "      <td>0.00</td>\n",
       "      <td>12000.00</td>\n",
       "    </tr>\n",
       "  </tbody>\n",
       "</table>\n",
       "</div>"
      ],
      "text/plain": [
       "              位号     最小值       最大值\n",
       "0  原料换热器管程总管进口温度   40.00     80.00\n",
       "1  1.0MPa蒸汽进装置温度  150.00    250.00\n",
       "2        氮气进装置流量  250.00    800.00\n",
       "3         稳定塔顶压力    0.60      0.70\n",
       "4      K101机出口压力    2.55      3.55\n",
       "5        蒸汽进装置流量    0.00   3500.00\n",
       "6  加氢裂化轻石脑油进装置流量    0.00  12000.00"
      ]
     },
     "execution_count": 15,
     "metadata": {},
     "output_type": "execute_result"
    }
   ],
   "source": [
    "#变量取值范围\n",
    "interval=pd.read_excel('位号最大值最小值.xlsx')\n",
    "interval"
   ]
  },
  {
   "cell_type": "code",
   "execution_count": 16,
   "metadata": {},
   "outputs": [],
   "source": [
    "#读取因变量\n",
    "y=pd.read_excel('/Users/zhongrunping/Desktop/jupyter文件夹/数学建模/RON损失(不是变量).xlsx')[::-1].reset_index(drop=True)\n",
    "y=y.iloc[:,2]"
   ]
  },
  {
   "cell_type": "code",
   "execution_count": 17,
   "metadata": {},
   "outputs": [
    {
     "data": {
      "text/plain": [
       "0.15308364807468453"
      ]
     },
     "execution_count": 17,
     "metadata": {},
     "output_type": "execute_result"
    }
   ],
   "source": [
    "#训练模型\n",
    "svr=SVR(kernel='poly',coef0=5,degree=3,cache_size=800).fit(traing,y)\n",
    "mean_absolute_error(y,svr.predict(traing))\n",
    "#训练平均的绝对误差0.15"
   ]
  },
  {
   "cell_type": "code",
   "execution_count": 18,
   "metadata": {},
   "outputs": [
    {
     "data": {
      "text/plain": [
       "112"
      ]
     },
     "execution_count": 18,
     "metadata": {},
     "output_type": "execute_result"
    }
   ],
   "source": [
    "data=traing.copy()\n",
    "data=data[:112]\n",
    "#硫含量大于5的 设置成5\n",
    "data['硫含量2,μg/g']=data['硫含量2,μg/g'].apply(lambda x:5 if x>5 else x)\n",
    "data=data.reset_index(drop=True)\n",
    "len(data)"
   ]
  },
  {
   "cell_type": "code",
   "execution_count": 19,
   "metadata": {},
   "outputs": [],
   "source": [
    "#获取变量的取值范围\n",
    "def get_column_range(column):\n",
    "    index=interval['位号'][interval['位号']==column].index[0]\n",
    "    maximum=interval['最大值'][index]\n",
    "    minimum=interval['最小值'][index]\n",
    "    return minimum,maximum  #返回最大最小值"
   ]
  },
  {
   "cell_type": "code",
   "execution_count": 20,
   "metadata": {},
   "outputs": [],
   "source": [
    "#定义随机生成一个新解的函数\n",
    "def generate_new_x(x_old,columns,t):\n",
    "    a=np.random.randn(len(x_old)-2)\n",
    "    b=a/((sum(a**2))**0.5)\n",
    "    x_new=[]\n",
    "    for i,j in enumerate(b):\n",
    "        new=x_old[i]+t*j\n",
    "        low,up=get_column_range(columns[i])\n",
    "        if new>=low and new<=up:\n",
    "            x_new.append(new)\n",
    "        elif new<low:\n",
    "            while new<low:\n",
    "                r=np.random.uniform(0,1)\n",
    "                new=r*low+(1-r)*new\n",
    "            x_new.append(new)\n",
    "        elif new>up:\n",
    "            while new>up:\n",
    "                r=np.random.uniform(0,1)\n",
    "                new=r*low+(1-r)*new\n",
    "            x_new.append(new)\n",
    "    x_new.append(x_old[-2])\n",
    "    x_new.append(x_old[-1])\n",
    "    return x_new"
   ]
  },
  {
   "cell_type": "code",
   "execution_count": 21,
   "metadata": {},
   "outputs": [
    {
     "data": {
      "text/plain": [
       "112"
      ]
     },
     "execution_count": 21,
     "metadata": {},
     "output_type": "execute_result"
    }
   ],
   "source": [
    "#生成个样本的最初始解\n",
    "initial_array=[]\n",
    "for j in range(len(data)):\n",
    "    initial_x=[]\n",
    "    for i in range(7):\n",
    "        a,b=get_column_range(traing.columns[i])\n",
    "        initial_x.append(np.random.uniform(a,b))\n",
    "    initial_x.append(data.iloc[j,-2])\n",
    "    initial_x.append(data.iloc[j,-1])    \n",
    "    initial_array.append(initial_x)\n",
    "len(initial_array)"
   ]
  },
  {
   "cell_type": "code",
   "execution_count": 22,
   "metadata": {},
   "outputs": [],
   "source": [
    "result=pd.DataFrame()\n",
    "for index in range(len(data)):\n",
    "    x=initial_array[index]\n",
    "    for t in range(200):\n",
    "        for i in range(100):\n",
    "            f_A=svr.predict(np.array(x).reshape(1,-1))\n",
    "            new_x=generate_new_x(x,data.columns,t)\n",
    "            f_B=svr.predict(np.array(new_x).reshape(1,-1))\n",
    "            if f_B<=f_A:\n",
    "                x=new_x\n",
    "                #print('当前新解小于旧解，将新的解赋给x')\n",
    "            elif f_B>f_A:\n",
    "                delta_f=abs(f_B-f_A)\n",
    "                p=np.exp(-(delta_f/(100*(0.95**t))))\n",
    "                r=np.random.uniform(0,1)\n",
    "                if p>r:\n",
    "                    x=new_x\n",
    "                    #print('接受新解的概率为{},随机概率为：{},接受新解。'.format(p[0],r))\n",
    "    result=pd.concat([result,pd.DataFrame(np.array(x).reshape(1,-1))],axis=0)\n",
    "    result.to_excel('0-112.xlsx')"
   ]
  },
  {
   "cell_type": "code",
   "execution_count": 1,
   "metadata": {},
   "outputs": [
    {
     "ename": "NameError",
     "evalue": "name 'pd' is not defined",
     "output_type": "error",
     "traceback": [
      "\u001b[0;31m---------------------------------------------------------------------------\u001b[0m",
      "\u001b[0;31mNameError\u001b[0m                                 Traceback (most recent call last)",
      "\u001b[0;32m<ipython-input-1-6826ca97bdb4>\u001b[0m in \u001b[0;36m<module>\u001b[0;34m\u001b[0m\n\u001b[0;32m----> 1\u001b[0;31m \u001b[0mafter\u001b[0m\u001b[0;34m=\u001b[0m\u001b[0mpd\u001b[0m\u001b[0;34m.\u001b[0m\u001b[0mread_excel\u001b[0m\u001b[0;34m(\u001b[0m\u001b[0;34m'优化之后各个样本数据.xlsx'\u001b[0m\u001b[0;34m,\u001b[0m\u001b[0mindex_col\u001b[0m\u001b[0;34m=\u001b[0m\u001b[0;36m0\u001b[0m\u001b[0;34m)\u001b[0m\u001b[0;34m.\u001b[0m\u001b[0mreset_index\u001b[0m\u001b[0;34m(\u001b[0m\u001b[0mdrop\u001b[0m\u001b[0;34m=\u001b[0m\u001b[0;32mTrue\u001b[0m\u001b[0;34m)\u001b[0m\u001b[0;34m\u001b[0m\u001b[0;34m\u001b[0m\u001b[0m\n\u001b[0m\u001b[1;32m      2\u001b[0m \u001b[0mafter\u001b[0m\u001b[0;34m\u001b[0m\u001b[0;34m\u001b[0m\u001b[0m\n",
      "\u001b[0;31mNameError\u001b[0m: name 'pd' is not defined"
     ]
    }
   ],
   "source": [
    "after=pd.read_excel('优化之后各个样本数据.xlsx',index_col=0).reset_index(drop=True)\n",
    "after"
   ]
  },
  {
   "cell_type": "code",
   "execution_count": 27,
   "metadata": {},
   "outputs": [
    {
     "data": {
      "text/plain": [
       "array([0.55514267, 0.56259505, 0.55288638, 0.55417874, 0.56066382,\n",
       "       0.56429169, 0.56490227, 0.55423601, 0.56158214, 0.5518713 ,\n",
       "       0.55680849, 0.5525021 , 0.55405506, 0.55718393, 0.56316217,\n",
       "       0.56461837, 0.5605304 , 0.5517851 , 0.55866891, 0.55654375,\n",
       "       0.55347403, 0.55296321, 0.56594538, 0.55261699, 0.55756057,\n",
       "       0.56086289, 0.56173912, 0.55541295, 0.56764146, 0.56761802,\n",
       "       0.5533    , 0.56650704, 0.62676414, 0.55366379, 0.55556066,\n",
       "       0.55326799, 0.56410004, 0.56870661, 0.55682679, 0.55424359,\n",
       "       0.56053067, 0.5521819 , 0.5564505 , 0.56350046, 0.55693981,\n",
       "       0.56630239, 0.55586241, 0.56018263, 0.55931071, 0.55566467,\n",
       "       0.55517554, 0.56156203, 0.56531016, 0.55331098, 0.55521405,\n",
       "       0.55363019, 0.55738994, 0.55247476, 0.55610998, 0.56303093,\n",
       "       0.55540374, 0.55820613, 0.55962201, 0.5988404 , 0.55630885,\n",
       "       0.55469221, 0.5535221 , 0.55748059, 0.55794569, 0.55614015,\n",
       "       0.55759322, 0.5559971 , 0.55418899, 0.55598665, 0.55281022,\n",
       "       0.55233099, 0.55479594, 0.56336013, 0.56549978, 0.55206141,\n",
       "       0.55337063, 0.56935008, 0.55575652, 0.55217478, 0.55945079,\n",
       "       0.56132462, 0.56644104, 0.5638014 , 0.55446491, 0.55333758,\n",
       "       0.5601481 , 0.56962547, 0.55850983, 0.55934877, 0.55485267,\n",
       "       0.57005413, 0.55818906, 0.56875884, 0.75365317, 0.55648152,\n",
       "       0.55276298, 0.55219344, 0.55892237, 0.55919449, 0.55237619,\n",
       "       0.55791164, 0.5529803 , 0.56729606, 0.56158604, 0.55425054,\n",
       "       0.55722788, 0.55966597, 0.55583822, 0.56128931, 0.55707064,\n",
       "       0.55196314, 0.55252922, 0.55694771, 0.57152521, 0.55733069,\n",
       "       0.56087862, 0.57637005, 0.55523957, 0.55929986, 0.55458485,\n",
       "       0.5643538 , 0.55594479, 0.56145356, 0.56591882, 0.5576733 ,\n",
       "       0.55720479, 0.55571387, 0.56414036, 0.55179755, 0.55485313,\n",
       "       0.56615538, 0.55192398, 0.5572897 , 0.55672451, 0.57223737,\n",
       "       0.55990814, 0.5534021 , 0.55804814, 0.56552075, 0.6097827 ,\n",
       "       0.55205571, 0.55191837, 0.55388423, 0.57322168, 0.55641337,\n",
       "       0.56614599, 0.55250557, 0.55184214, 0.55383015, 0.55689152,\n",
       "       0.72589289, 0.55870654, 0.55784123, 0.55639112, 0.56940599,\n",
       "       0.56806334, 0.55973303, 0.56945102, 0.56399311, 0.55935646,\n",
       "       0.55432308, 0.56250411, 0.55724061, 0.5556006 , 0.56346637,\n",
       "       0.55854824, 0.57352551, 0.55936622, 0.55860963, 0.55375585,\n",
       "       0.55660526, 0.56691502, 0.55361628, 0.55569257, 0.55835701,\n",
       "       0.55936892, 0.55689253, 0.55303522, 0.5637107 , 0.55872885,\n",
       "       0.5523054 , 0.55721179, 0.56397196, 0.55642707, 0.56985536,\n",
       "       0.56055934, 0.55283763, 0.55673436, 0.5685224 , 0.55716996,\n",
       "       0.56133119, 0.56408245, 0.56420454, 0.55452438, 0.55781129,\n",
       "       0.5567085 , 0.55810565, 0.55321963, 0.561354  , 0.55297052,\n",
       "       0.57065589, 0.55469891, 0.56010965, 0.55494678, 0.56602099,\n",
       "       0.55379666, 0.56666089, 0.55956661, 0.55588135, 0.55538723,\n",
       "       0.55580084, 0.5619648 , 0.55361124, 0.55396101, 0.55835135,\n",
       "       0.55442684, 0.55420906, 0.55840982, 0.55547638, 0.55725303,\n",
       "       0.55334999, 0.5534247 , 0.5626598 , 0.79424067, 0.5714213 ,\n",
       "       0.5625246 , 0.55267639, 0.57026732, 0.55415731, 0.55719285,\n",
       "       0.56188072, 0.5687359 , 0.55609273, 0.55891441, 0.5655019 ,\n",
       "       0.5561041 , 0.5597757 , 0.56535113, 0.56394666, 0.554366  ,\n",
       "       0.55294504, 0.55757753, 0.56128956, 0.55319261, 0.55721716,\n",
       "       0.56189679, 0.56546484, 0.55684205, 0.55958559])"
      ]
     },
     "execution_count": 27,
     "metadata": {},
     "output_type": "execute_result"
    }
   ],
   "source": []
  },
  {
   "cell_type": "code",
   "execution_count": null,
   "metadata": {},
   "outputs": [],
   "source": []
  },
  {
   "cell_type": "code",
   "execution_count": null,
   "metadata": {},
   "outputs": [],
   "source": []
  },
  {
   "cell_type": "code",
   "execution_count": null,
   "metadata": {},
   "outputs": [],
   "source": []
  }
 ],
 "metadata": {
  "kernelspec": {
   "display_name": "Python 3",
   "language": "python",
   "name": "python3"
  },
  "language_info": {
   "codemirror_mode": {
    "name": "ipython",
    "version": 3
   },
   "file_extension": ".py",
   "mimetype": "text/x-python",
   "name": "python",
   "nbconvert_exporter": "python",
   "pygments_lexer": "ipython3",
   "version": "3.8.3"
  }
 },
 "nbformat": 4,
 "nbformat_minor": 4
}
