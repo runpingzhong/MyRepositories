{
 "cells": [
  {
   "cell_type": "code",
   "execution_count": 16,
   "metadata": {},
   "outputs": [],
   "source": [
    "import numpy as np\n",
    "import pandas as pd\n",
    "import matplotlib.pyplot as plt\n",
    "from sklearn.svm import SVR\n",
    "from sklearn.model_selection import train_test_split,GridSearchCV\n",
    "from sklearn.metrics import mean_squared_error,mean_absolute_error\n",
    "#plt.rcParams[\"font.family\"] = 'Arial Unicode MS'\n",
    "#plt.rcParams['axes.unicode_minus'] = False"
   ]
  },
  {
   "cell_type": "code",
   "execution_count": 17,
   "metadata": {},
   "outputs": [
    {
     "data": {
      "text/html": [
       "<div>\n",
       "<style scoped>\n",
       "    .dataframe tbody tr th:only-of-type {\n",
       "        vertical-align: middle;\n",
       "    }\n",
       "\n",
       "    .dataframe tbody tr th {\n",
       "        vertical-align: top;\n",
       "    }\n",
       "\n",
       "    .dataframe thead th {\n",
       "        text-align: right;\n",
       "    }\n",
       "</style>\n",
       "<table border=\"1\" class=\"dataframe\">\n",
       "  <thead>\n",
       "    <tr style=\"text-align: right;\">\n",
       "      <th></th>\n",
       "      <th>原料换热器管程总管进口温度</th>\n",
       "      <th>1.0MPa蒸汽进装置温度</th>\n",
       "      <th>氮气进装置流量</th>\n",
       "      <th>稳定塔顶压力</th>\n",
       "      <th>K101机出口压力</th>\n",
       "      <th>蒸汽进装置流量</th>\n",
       "      <th>加氢裂化轻石脑油进装置流量</th>\n",
       "      <th>辛烷值1RON</th>\n",
       "      <th>硫含量2,μg/g</th>\n",
       "    </tr>\n",
       "  </thead>\n",
       "  <tbody>\n",
       "    <tr>\n",
       "      <th>0</th>\n",
       "      <td>55.613933</td>\n",
       "      <td>196.993645</td>\n",
       "      <td>476.208445</td>\n",
       "      <td>0.652138</td>\n",
       "      <td>3.131928</td>\n",
       "      <td>1458.339950</td>\n",
       "      <td>6368.74700</td>\n",
       "      <td>90.6</td>\n",
       "      <td>3.2</td>\n",
       "    </tr>\n",
       "    <tr>\n",
       "      <th>1</th>\n",
       "      <td>56.461392</td>\n",
       "      <td>197.485060</td>\n",
       "      <td>453.687235</td>\n",
       "      <td>0.652110</td>\n",
       "      <td>3.131915</td>\n",
       "      <td>1142.179200</td>\n",
       "      <td>6360.64530</td>\n",
       "      <td>90.5</td>\n",
       "      <td>3.2</td>\n",
       "    </tr>\n",
       "    <tr>\n",
       "      <th>2</th>\n",
       "      <td>54.698909</td>\n",
       "      <td>201.774005</td>\n",
       "      <td>454.138060</td>\n",
       "      <td>0.652395</td>\n",
       "      <td>3.129382</td>\n",
       "      <td>1025.874790</td>\n",
       "      <td>6504.96490</td>\n",
       "      <td>90.7</td>\n",
       "      <td>3.2</td>\n",
       "    </tr>\n",
       "    <tr>\n",
       "      <th>3</th>\n",
       "      <td>57.883680</td>\n",
       "      <td>196.421215</td>\n",
       "      <td>467.951720</td>\n",
       "      <td>0.652089</td>\n",
       "      <td>3.130650</td>\n",
       "      <td>967.852340</td>\n",
       "      <td>6506.82495</td>\n",
       "      <td>90.4</td>\n",
       "      <td>3.2</td>\n",
       "    </tr>\n",
       "    <tr>\n",
       "      <th>4</th>\n",
       "      <td>57.303791</td>\n",
       "      <td>192.642635</td>\n",
       "      <td>470.470510</td>\n",
       "      <td>0.652213</td>\n",
       "      <td>3.128421</td>\n",
       "      <td>932.608515</td>\n",
       "      <td>6560.24225</td>\n",
       "      <td>89.6</td>\n",
       "      <td>3.2</td>\n",
       "    </tr>\n",
       "  </tbody>\n",
       "</table>\n",
       "</div>"
      ],
      "text/plain": [
       "   原料换热器管程总管进口温度  1.0MPa蒸汽进装置温度     氮气进装置流量    稳定塔顶压力  K101机出口压力      蒸汽进装置流量  \\\n",
       "0      55.613933     196.993645  476.208445  0.652138   3.131928  1458.339950   \n",
       "1      56.461392     197.485060  453.687235  0.652110   3.131915  1142.179200   \n",
       "2      54.698909     201.774005  454.138060  0.652395   3.129382  1025.874790   \n",
       "3      57.883680     196.421215  467.951720  0.652089   3.130650   967.852340   \n",
       "4      57.303791     192.642635  470.470510  0.652213   3.128421   932.608515   \n",
       "\n",
       "   加氢裂化轻石脑油进装置流量  辛烷值1RON  硫含量2,μg/g  \n",
       "0     6368.74700     90.6        3.2  \n",
       "1     6360.64530     90.5        3.2  \n",
       "2     6504.96490     90.7        3.2  \n",
       "3     6506.82495     90.4        3.2  \n",
       "4     6560.24225     89.6        3.2  "
      ]
     },
     "execution_count": 17,
     "metadata": {},
     "output_type": "execute_result"
    }
   ],
   "source": [
    "traing=pd.read_excel('样本数据.xlsx',index_col=0)\n",
    "traing.head()"
   ]
  },
  {
   "cell_type": "code",
   "execution_count": 18,
   "metadata": {},
   "outputs": [
    {
     "data": {
      "text/html": [
       "<div>\n",
       "<style scoped>\n",
       "    .dataframe tbody tr th:only-of-type {\n",
       "        vertical-align: middle;\n",
       "    }\n",
       "\n",
       "    .dataframe tbody tr th {\n",
       "        vertical-align: top;\n",
       "    }\n",
       "\n",
       "    .dataframe thead th {\n",
       "        text-align: right;\n",
       "    }\n",
       "</style>\n",
       "<table border=\"1\" class=\"dataframe\">\n",
       "  <thead>\n",
       "    <tr style=\"text-align: right;\">\n",
       "      <th></th>\n",
       "      <th>位号</th>\n",
       "      <th>最小值</th>\n",
       "      <th>最大值</th>\n",
       "    </tr>\n",
       "  </thead>\n",
       "  <tbody>\n",
       "    <tr>\n",
       "      <th>0</th>\n",
       "      <td>原料换热器管程总管进口温度</td>\n",
       "      <td>40.00</td>\n",
       "      <td>80.00</td>\n",
       "    </tr>\n",
       "    <tr>\n",
       "      <th>1</th>\n",
       "      <td>1.0MPa蒸汽进装置温度</td>\n",
       "      <td>150.00</td>\n",
       "      <td>250.00</td>\n",
       "    </tr>\n",
       "    <tr>\n",
       "      <th>2</th>\n",
       "      <td>氮气进装置流量</td>\n",
       "      <td>250.00</td>\n",
       "      <td>800.00</td>\n",
       "    </tr>\n",
       "    <tr>\n",
       "      <th>3</th>\n",
       "      <td>稳定塔顶压力</td>\n",
       "      <td>0.60</td>\n",
       "      <td>0.70</td>\n",
       "    </tr>\n",
       "    <tr>\n",
       "      <th>4</th>\n",
       "      <td>K101机出口压力</td>\n",
       "      <td>2.55</td>\n",
       "      <td>3.55</td>\n",
       "    </tr>\n",
       "    <tr>\n",
       "      <th>5</th>\n",
       "      <td>蒸汽进装置流量</td>\n",
       "      <td>0.00</td>\n",
       "      <td>3500.00</td>\n",
       "    </tr>\n",
       "    <tr>\n",
       "      <th>6</th>\n",
       "      <td>加氢裂化轻石脑油进装置流量</td>\n",
       "      <td>0.00</td>\n",
       "      <td>12000.00</td>\n",
       "    </tr>\n",
       "  </tbody>\n",
       "</table>\n",
       "</div>"
      ],
      "text/plain": [
       "              位号     最小值       最大值\n",
       "0  原料换热器管程总管进口温度   40.00     80.00\n",
       "1  1.0MPa蒸汽进装置温度  150.00    250.00\n",
       "2        氮气进装置流量  250.00    800.00\n",
       "3         稳定塔顶压力    0.60      0.70\n",
       "4      K101机出口压力    2.55      3.55\n",
       "5        蒸汽进装置流量    0.00   3500.00\n",
       "6  加氢裂化轻石脑油进装置流量    0.00  12000.00"
      ]
     },
     "execution_count": 18,
     "metadata": {},
     "output_type": "execute_result"
    }
   ],
   "source": [
    "#变量取值范围\n",
    "interval=pd.read_excel('位号最大值最小值.xlsx')\n",
    "interval"
   ]
  },
  {
   "cell_type": "code",
   "execution_count": 19,
   "metadata": {},
   "outputs": [],
   "source": [
    "#读取因变量\n",
    "y=pd.read_excel('/Users/zhongrunping/Desktop/jupyter文件夹/数学建模/RON损失(不是变量).xlsx')[::-1].reset_index(drop=True)\n",
    "y=y.iloc[:,2]"
   ]
  },
  {
   "cell_type": "code",
   "execution_count": 20,
   "metadata": {},
   "outputs": [
    {
     "data": {
      "text/plain": [
       "0.15308364807468453"
      ]
     },
     "execution_count": 20,
     "metadata": {},
     "output_type": "execute_result"
    }
   ],
   "source": [
    "#训练模型\n",
    "svr=SVR(kernel='poly',coef0=5,degree=3,cache_size=800).fit(traing,y)\n",
    "mean_absolute_error(y,svr.predict(traing))\n",
    "#训练平均的绝对误差0.15"
   ]
  },
  {
   "cell_type": "code",
   "execution_count": 21,
   "metadata": {},
   "outputs": [
    {
     "data": {
      "text/plain": [
       "100"
      ]
     },
     "execution_count": 21,
     "metadata": {},
     "output_type": "execute_result"
    }
   ],
   "source": [
    "data=traing.copy()\n",
    "data=data[154:254]\n",
    "#硫含量大于5的 设置成5\n",
    "data['硫含量2,μg/g']=data['硫含量2,μg/g'].apply(lambda x:5 if x>5 else x)\n",
    "data=data.reset_index(drop=True)\n",
    "len(data)"
   ]
  },
  {
   "cell_type": "code",
   "execution_count": 22,
   "metadata": {},
   "outputs": [],
   "source": [
    "#获取变量的取值范围\n",
    "def get_column_range(column):\n",
    "    index=interval['位号'][interval['位号']==column].index[0]\n",
    "    maximum=interval['最大值'][index]\n",
    "    minimum=interval['最小值'][index]\n",
    "    return minimum,maximum  #返回最大最小值"
   ]
  },
  {
   "cell_type": "code",
   "execution_count": 23,
   "metadata": {},
   "outputs": [],
   "source": [
    "#定义随机生成一个新解的函数\n",
    "def generate_new_x(x_old,columns,t):\n",
    "    a=np.random.randn(len(x_old)-2)\n",
    "    b=a/((sum(a**2))**0.5)\n",
    "    x_new=[]\n",
    "    for i,j in enumerate(b):\n",
    "        new=x_old[i]+t*j\n",
    "        low,up=get_column_range(columns[i])\n",
    "        if new>=low and new<=up:\n",
    "            x_new.append(new)\n",
    "        elif new<low:\n",
    "            while new<low:\n",
    "                r=np.random.uniform(0,1)\n",
    "                new=r*low+(1-r)*new\n",
    "            x_new.append(new)\n",
    "        elif new>up:\n",
    "            while new>up:\n",
    "                r=np.random.uniform(0,1)\n",
    "                new=r*low+(1-r)*new\n",
    "            x_new.append(new)\n",
    "    x_new.append(x_old[-2])\n",
    "    x_new.append(x_old[-1])\n",
    "    return x_new"
   ]
  },
  {
   "cell_type": "code",
   "execution_count": 24,
   "metadata": {},
   "outputs": [
    {
     "data": {
      "text/plain": [
       "100"
      ]
     },
     "execution_count": 24,
     "metadata": {},
     "output_type": "execute_result"
    }
   ],
   "source": [
    "#生成个样本的最初始解\n",
    "initial_array=[]\n",
    "for j in range(len(data)):\n",
    "    initial_x=[]\n",
    "    for i in range(7):\n",
    "        a,b=get_column_range(traing.columns[i])\n",
    "        initial_x.append(np.random.uniform(a,b))\n",
    "    initial_x.append(data.iloc[j,-2])\n",
    "    initial_x.append(data.iloc[j,-1])    \n",
    "    initial_array.append(initial_x)\n",
    "len(initial_array)"
   ]
  },
  {
   "cell_type": "code",
   "execution_count": 25,
   "metadata": {},
   "outputs": [],
   "source": [
    "result=pd.DataFrame()\n",
    "for index in range(len(data)):\n",
    "    x=initial_array[index]\n",
    "    for t in range(200):\n",
    "        for i in range(100):\n",
    "            f_A=svr.predict(np.array(x).reshape(1,-1))\n",
    "            new_x=generate_new_x(x,data.columns,t)\n",
    "            f_B=svr.predict(np.array(new_x).reshape(1,-1))\n",
    "            if f_B<=f_A:\n",
    "                x=new_x\n",
    "                #print('当前新解小于旧解，将新的解赋给x')\n",
    "            elif f_B>f_A:\n",
    "                delta_f=abs(f_B-f_A)\n",
    "                p=np.exp(-(delta_f/(100*(0.95**t))))\n",
    "                r=np.random.uniform(0,1)\n",
    "                if p>r:\n",
    "                    x=new_x\n",
    "                    #print('接受新解的概率为{},随机概率为：{},接受新解。'.format(p[0],r))\n",
    "    result=pd.concat([result,pd.DataFrame(np.array(x).reshape(1,-1))],axis=0)\n",
    "    result.to_excel('154-254.xlsx')"
   ]
  },
  {
   "cell_type": "code",
   "execution_count": null,
   "metadata": {},
   "outputs": [],
   "source": []
  }
 ],
 "metadata": {
  "kernelspec": {
   "display_name": "Python 3",
   "language": "python",
   "name": "python3"
  },
  "language_info": {
   "codemirror_mode": {
    "name": "ipython",
    "version": 3
   },
   "file_extension": ".py",
   "mimetype": "text/x-python",
   "name": "python",
   "nbconvert_exporter": "python",
   "pygments_lexer": "ipython3",
   "version": "3.8.3"
  }
 },
 "nbformat": 4,
 "nbformat_minor": 4
}
