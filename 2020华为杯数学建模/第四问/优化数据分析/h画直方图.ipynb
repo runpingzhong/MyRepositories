{
 "cells": [
  {
   "cell_type": "code",
   "execution_count": 64,
   "metadata": {},
   "outputs": [],
   "source": [
    "import numpy as np\n",
    "import pandas as pd\n",
    "import matplotlib.pyplot as plt\n",
    "from sklearn.svm import SVR\n",
    "from sklearn.model_selection import train_test_split,GridSearchCV\n",
    "from sklearn.metrics import mean_squared_error,mean_absolute_error\n",
    "plt.rcParams[\"font.family\"] = 'Arial Unicode MS'\n",
    "plt.rcParams['axes.unicode_minus'] = False"
   ]
  },
  {
   "cell_type": "code",
   "execution_count": 66,
   "metadata": {},
   "outputs": [
    {
     "data": {
      "text/html": [
       "<div>\n",
       "<style scoped>\n",
       "    .dataframe tbody tr th:only-of-type {\n",
       "        vertical-align: middle;\n",
       "    }\n",
       "\n",
       "    .dataframe tbody tr th {\n",
       "        vertical-align: top;\n",
       "    }\n",
       "\n",
       "    .dataframe thead th {\n",
       "        text-align: right;\n",
       "    }\n",
       "</style>\n",
       "<table border=\"1\" class=\"dataframe\">\n",
       "  <thead>\n",
       "    <tr style=\"text-align: right;\">\n",
       "      <th></th>\n",
       "      <th>样本编号</th>\n",
       "      <th>原料换热器管程总管进口温度</th>\n",
       "      <th>1.0MPa蒸汽进装置温度</th>\n",
       "      <th>氮气进装置流量</th>\n",
       "      <th>稳定塔顶压力</th>\n",
       "      <th>K101机出口压力</th>\n",
       "      <th>蒸汽进装置流量</th>\n",
       "      <th>加氢裂化轻石脑油进装置流量</th>\n",
       "      <th>辛烷值1RON</th>\n",
       "      <th>硫含量2,μg/g</th>\n",
       "      <th>RON损失\\n（不是变量）</th>\n",
       "      <th>损失值</th>\n",
       "      <th>优化值</th>\n",
       "      <th>优化幅度</th>\n",
       "    </tr>\n",
       "  </thead>\n",
       "  <tbody>\n",
       "    <tr>\n",
       "      <th>0</th>\n",
       "      <td>1</td>\n",
       "      <td>40.000000</td>\n",
       "      <td>150.0</td>\n",
       "      <td>250.000000</td>\n",
       "      <td>0.6</td>\n",
       "      <td>2.770312</td>\n",
       "      <td>3485.518691</td>\n",
       "      <td>12.326774</td>\n",
       "      <td>90.6</td>\n",
       "      <td>3.2</td>\n",
       "      <td>1.25</td>\n",
       "      <td>0.555143</td>\n",
       "      <td>0.694857</td>\n",
       "      <td>55.588586</td>\n",
       "    </tr>\n",
       "    <tr>\n",
       "      <th>1</th>\n",
       "      <td>2</td>\n",
       "      <td>54.709687</td>\n",
       "      <td>150.0</td>\n",
       "      <td>253.278114</td>\n",
       "      <td>0.6</td>\n",
       "      <td>2.550000</td>\n",
       "      <td>3468.291468</td>\n",
       "      <td>2.231152</td>\n",
       "      <td>90.5</td>\n",
       "      <td>3.2</td>\n",
       "      <td>1.28</td>\n",
       "      <td>0.562595</td>\n",
       "      <td>0.717405</td>\n",
       "      <td>56.047262</td>\n",
       "    </tr>\n",
       "    <tr>\n",
       "      <th>2</th>\n",
       "      <td>3</td>\n",
       "      <td>43.204892</td>\n",
       "      <td>150.0</td>\n",
       "      <td>250.000000</td>\n",
       "      <td>0.6</td>\n",
       "      <td>3.354981</td>\n",
       "      <td>3496.771184</td>\n",
       "      <td>0.000000</td>\n",
       "      <td>90.7</td>\n",
       "      <td>3.2</td>\n",
       "      <td>1.35</td>\n",
       "      <td>0.552886</td>\n",
       "      <td>0.797114</td>\n",
       "      <td>59.045454</td>\n",
       "    </tr>\n",
       "    <tr>\n",
       "      <th>3</th>\n",
       "      <td>4</td>\n",
       "      <td>40.000000</td>\n",
       "      <td>150.0</td>\n",
       "      <td>250.000000</td>\n",
       "      <td>0.6</td>\n",
       "      <td>2.550000</td>\n",
       "      <td>3485.033491</td>\n",
       "      <td>0.000000</td>\n",
       "      <td>90.4</td>\n",
       "      <td>3.2</td>\n",
       "      <td>1.25</td>\n",
       "      <td>0.554179</td>\n",
       "      <td>0.695821</td>\n",
       "      <td>55.665701</td>\n",
       "    </tr>\n",
       "    <tr>\n",
       "      <th>4</th>\n",
       "      <td>5</td>\n",
       "      <td>40.000000</td>\n",
       "      <td>150.0</td>\n",
       "      <td>250.000000</td>\n",
       "      <td>0.6</td>\n",
       "      <td>2.550000</td>\n",
       "      <td>3472.659257</td>\n",
       "      <td>54.360831</td>\n",
       "      <td>89.6</td>\n",
       "      <td>3.2</td>\n",
       "      <td>1.15</td>\n",
       "      <td>0.560664</td>\n",
       "      <td>0.589336</td>\n",
       "      <td>51.246624</td>\n",
       "    </tr>\n",
       "  </tbody>\n",
       "</table>\n",
       "</div>"
      ],
      "text/plain": [
       "   样本编号  原料换热器管程总管进口温度  1.0MPa蒸汽进装置温度     氮气进装置流量  稳定塔顶压力  K101机出口压力  \\\n",
       "0     1      40.000000          150.0  250.000000     0.6   2.770312   \n",
       "1     2      54.709687          150.0  253.278114     0.6   2.550000   \n",
       "2     3      43.204892          150.0  250.000000     0.6   3.354981   \n",
       "3     4      40.000000          150.0  250.000000     0.6   2.550000   \n",
       "4     5      40.000000          150.0  250.000000     0.6   2.550000   \n",
       "\n",
       "       蒸汽进装置流量  加氢裂化轻石脑油进装置流量  辛烷值1RON  硫含量2,μg/g  RON损失\\n（不是变量）       损失值  \\\n",
       "0  3485.518691      12.326774     90.6        3.2           1.25  0.555143   \n",
       "1  3468.291468       2.231152     90.5        3.2           1.28  0.562595   \n",
       "2  3496.771184       0.000000     90.7        3.2           1.35  0.552886   \n",
       "3  3485.033491       0.000000     90.4        3.2           1.25  0.554179   \n",
       "4  3472.659257      54.360831     89.6        3.2           1.15  0.560664   \n",
       "\n",
       "        优化值       优化幅度  \n",
       "0  0.694857  55.588586  \n",
       "1  0.717405  56.047262  \n",
       "2  0.797114  59.045454  \n",
       "3  0.695821  55.665701  \n",
       "4  0.589336  51.246624  "
      ]
     },
     "execution_count": 66,
     "metadata": {},
     "output_type": "execute_result"
    }
   ],
   "source": [
    "data=pd.read_excel('样本优化前后损失值.xlsx')\n",
    "data.head()"
   ]
  },
  {
   "cell_type": "code",
   "execution_count": 9,
   "metadata": {},
   "outputs": [],
   "source": [
    "#找出优化幅度大于30%的\n",
    "data=data[data['优化幅度']>0.3].reset_index(drop=True)"
   ]
  },
  {
   "cell_type": "code",
   "execution_count": 54,
   "metadata": {},
   "outputs": [
    {
     "data": {
      "text/plain": [
       "322"
      ]
     },
     "execution_count": 54,
     "metadata": {},
     "output_type": "execute_result"
    }
   ],
   "source": [
    "len(data)\n",
    "#一共322个样本"
   ]
  },
  {
   "cell_type": "code",
   "execution_count": 17,
   "metadata": {},
   "outputs": [],
   "source": [
    "variable=data.iloc[:,1:-6].reset_index(drop=True)"
   ]
  },
  {
   "cell_type": "code",
   "execution_count": 62,
   "metadata": {},
   "outputs": [
    {
     "data": {
      "image/png": "[encoded data removed]",
      "text/plain": [
       "<Figure size 500x400 with 1 Axes>"
      ]
     },
     "metadata": {
      "needs_background": "light"
     },
     "output_type": "display_data"
    }
   ],
   "source": [
    "#图保存到本地\n",
    "i=6\n",
    "plt.figure(figsize=(5,4),dpi=100)\n",
    "plt.hist(variable.iloc[:,i])\n",
    "plt.xlabel(variable.columns[i])\n",
    "name=variable.columns[i]+'.png'\n",
    "plt.savefig(name)"
   ]
  },
  {
   "cell_type": "code",
   "execution_count": null,
   "metadata": {},
   "outputs": [],
   "source": []
  }
 ],
 "metadata": {
  "kernelspec": {
   "display_name": "Python 3",
   "language": "python",
   "name": "python3"
  },
  "language_info": {
   "codemirror_mode": {
    "name": "ipython",
    "version": 3
   },
   "file_extension": ".py",
   "mimetype": "text/x-python",
   "name": "python",
   "nbconvert_exporter": "python",
   "pygments_lexer": "ipython3",
   "version": "3.8.3"
  }
 },
 "nbformat": 4,
 "nbformat_minor": 4
}
