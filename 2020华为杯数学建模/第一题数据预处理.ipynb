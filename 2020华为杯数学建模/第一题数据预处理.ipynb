{
 "cells": [
  {
   "cell_type": "code",
   "execution_count": 116,
   "metadata": {},
   "outputs": [],
   "source": [
    "import numpy as np\n",
    "import pandas as pd\n",
    "import matplotlib.pyplot as plt\n",
    "import seaborn as sns"
   ]
  },
  {
   "cell_type": "code",
   "execution_count": 2,
   "metadata": {},
   "outputs": [],
   "source": [
    "data=pd.read_excel('/Users/zhongrunping/Desktop/jupyter文件夹/数学建模/2020年B题/数模题/附件三：285号和313号样本原始数据的副本.xlsx'\n",
    "              ,sheet_name=4\n",
    "             )\n",
    "data=data[1:].reset_index(drop=True)"
   ]
  },
  {
   "cell_type": "code",
   "execution_count": 3,
   "metadata": {},
   "outputs": [],
   "source": [
    "sample285=data[:40].iloc[:,1:]\n",
    "sample313=data[40:].reset_index(drop=True).iloc[:,1:]"
   ]
  },
  {
   "cell_type": "code",
   "execution_count": 4,
   "metadata": {},
   "outputs": [
    {
     "data": {
      "text/plain": [
       "Series([], dtype: int64)"
      ]
     },
     "execution_count": 4,
     "metadata": {},
     "output_type": "execute_result"
    }
   ],
   "source": [
    "#检查是否有缺失值\n",
    "sample285.isnull().sum()[sample285.isnull().sum()>0]\n",
    "#没有缺失值"
   ]
  },
  {
   "cell_type": "code",
   "execution_count": 5,
   "metadata": {},
   "outputs": [],
   "source": [
    "#读取原始变量取值范围\n",
    "interval=pd.read_excel('/Users/zhongrunping/Desktop/jupyter文件夹/数学建模/2020年B题/数模题/附件四：354个操作变量信息.xlsx')"
   ]
  },
  {
   "cell_type": "code",
   "execution_count": 6,
   "metadata": {},
   "outputs": [
    {
     "data": {
      "text/html": [
       "<div>\n",
       "<style scoped>\n",
       "    .dataframe tbody tr th:only-of-type {\n",
       "        vertical-align: middle;\n",
       "    }\n",
       "\n",
       "    .dataframe tbody tr th {\n",
       "        vertical-align: top;\n",
       "    }\n",
       "\n",
       "    .dataframe thead th {\n",
       "        text-align: right;\n",
       "    }\n",
       "</style>\n",
       "<table border=\"1\" class=\"dataframe\">\n",
       "  <thead>\n",
       "    <tr style=\"text-align: right;\">\n",
       "      <th></th>\n",
       "      <th>位号</th>\n",
       "      <th>取值范围</th>\n",
       "    </tr>\n",
       "  </thead>\n",
       "  <tbody>\n",
       "    <tr>\n",
       "      <th>0</th>\n",
       "      <td>S-ZORB.CAL_H2.PV</td>\n",
       "      <td>0.20-0.37</td>\n",
       "    </tr>\n",
       "    <tr>\n",
       "      <th>1</th>\n",
       "      <td>S-ZORB.PDI_2102.PV</td>\n",
       "      <td>10-35</td>\n",
       "    </tr>\n",
       "    <tr>\n",
       "      <th>2</th>\n",
       "      <td>S-ZORB.PT_2801.PV</td>\n",
       "      <td>2.35-2.70</td>\n",
       "    </tr>\n",
       "    <tr>\n",
       "      <th>3</th>\n",
       "      <td>S-ZORB.FC_2801.PV</td>\n",
       "      <td>600-1000</td>\n",
       "    </tr>\n",
       "    <tr>\n",
       "      <th>4</th>\n",
       "      <td>S-ZORB.TE_2103.PV</td>\n",
       "      <td>410-435</td>\n",
       "    </tr>\n",
       "  </tbody>\n",
       "</table>\n",
       "</div>"
      ],
      "text/plain": [
       "                   位号       取值范围\n",
       "0    S-ZORB.CAL_H2.PV  0.20-0.37\n",
       "1  S-ZORB.PDI_2102.PV      10-35\n",
       "2   S-ZORB.PT_2801.PV  2.35-2.70\n",
       "3   S-ZORB.FC_2801.PV   600-1000\n",
       "4   S-ZORB.TE_2103.PV    410-435"
      ]
     },
     "execution_count": 6,
     "metadata": {},
     "output_type": "execute_result"
    }
   ],
   "source": [
    "interval=pd.concat([interval['位号'],interval['取值范围']],axis=1)\n",
    "interval.head()"
   ]
  },
  {
   "cell_type": "code",
   "execution_count": 7,
   "metadata": {},
   "outputs": [],
   "source": [
    "def get_interval(x):\n",
    "    x=x.split('-')\n",
    "    if len(x)==2:\n",
    "        maximum=float(x[1])\n",
    "        minmum=float(x[0])\n",
    "        return minmum,maximum\n",
    "    else:\n",
    "        return x\n",
    "interval['取值范围']=interval['取值范围'].apply(get_interval)"
   ]
  },
  {
   "cell_type": "code",
   "execution_count": 8,
   "metadata": {},
   "outputs": [],
   "source": [
    "#interval.to_excel('各个变量的取值范围.xlsx',index=None)"
   ]
  },
  {
   "cell_type": "code",
   "execution_count": 10,
   "metadata": {},
   "outputs": [],
   "source": [
    "new_interval=pd.read_excel('各个变量的取值范围的副本.xlsx')"
   ]
  },
  {
   "cell_type": "code",
   "execution_count": 11,
   "metadata": {},
   "outputs": [],
   "source": [
    "def get_num(x):\n",
    "    return x.strip('()').split(',')\n",
    "new_interval['取值范围']=new_interval['取值范围'].apply(get_num)"
   ]
  },
  {
   "cell_type": "code",
   "execution_count": 12,
   "metadata": {},
   "outputs": [],
   "source": [
    "maximum=[]\n",
    "minimum=[]\n",
    "for j,i in enumerate(new_interval['取值范围']):\n",
    "    minimum.append(float(i[0]))\n",
    "    maximum.append(float(i[1]))"
   ]
  },
  {
   "cell_type": "code",
   "execution_count": 13,
   "metadata": {},
   "outputs": [],
   "source": [
    "new_interval['最小值']=minimum\n",
    "new_interval['最大值']=maximum"
   ]
  },
  {
   "cell_type": "code",
   "execution_count": 14,
   "metadata": {},
   "outputs": [],
   "source": [
    "new_interval=new_interval.drop(['取值范围'],axis=1)"
   ]
  },
  {
   "cell_type": "code",
   "execution_count": 126,
   "metadata": {},
   "outputs": [],
   "source": [
    "#new_interval.to_excel('各变量的最大最小值.xlsx',index=None)"
   ]
  },
  {
   "cell_type": "code",
   "execution_count": 128,
   "metadata": {},
   "outputs": [
    {
     "data": {
      "text/html": [
       "<div>\n",
       "<style scoped>\n",
       "    .dataframe tbody tr th:only-of-type {\n",
       "        vertical-align: middle;\n",
       "    }\n",
       "\n",
       "    .dataframe tbody tr th {\n",
       "        vertical-align: top;\n",
       "    }\n",
       "\n",
       "    .dataframe thead th {\n",
       "        text-align: right;\n",
       "    }\n",
       "</style>\n",
       "<table border=\"1\" class=\"dataframe\">\n",
       "  <thead>\n",
       "    <tr style=\"text-align: right;\">\n",
       "      <th></th>\n",
       "      <th>位号</th>\n",
       "      <th>最小值</th>\n",
       "      <th>最大值</th>\n",
       "    </tr>\n",
       "  </thead>\n",
       "  <tbody>\n",
       "    <tr>\n",
       "      <th>0</th>\n",
       "      <td>S-ZORB.CAL_H2.PV</td>\n",
       "      <td>0.20</td>\n",
       "      <td>0.37</td>\n",
       "    </tr>\n",
       "    <tr>\n",
       "      <th>1</th>\n",
       "      <td>S-ZORB.PDI_2102.PV</td>\n",
       "      <td>10.00</td>\n",
       "      <td>35.00</td>\n",
       "    </tr>\n",
       "    <tr>\n",
       "      <th>2</th>\n",
       "      <td>S-ZORB.PT_2801.PV</td>\n",
       "      <td>2.35</td>\n",
       "      <td>2.70</td>\n",
       "    </tr>\n",
       "    <tr>\n",
       "      <th>3</th>\n",
       "      <td>S-ZORB.FC_2801.PV</td>\n",
       "      <td>600.00</td>\n",
       "      <td>1000.00</td>\n",
       "    </tr>\n",
       "    <tr>\n",
       "      <th>4</th>\n",
       "      <td>S-ZORB.TE_2103.PV</td>\n",
       "      <td>410.00</td>\n",
       "      <td>435.00</td>\n",
       "    </tr>\n",
       "    <tr>\n",
       "      <th>...</th>\n",
       "      <td>...</td>\n",
       "      <td>...</td>\n",
       "      <td>...</td>\n",
       "    </tr>\n",
       "    <tr>\n",
       "      <th>349</th>\n",
       "      <td>S-ZORB.FT_1503.DACA.PV</td>\n",
       "      <td>60.00</td>\n",
       "      <td>5500000.00</td>\n",
       "    </tr>\n",
       "    <tr>\n",
       "      <th>350</th>\n",
       "      <td>S-ZORB.FT_1503.TOTALIZERA.PV</td>\n",
       "      <td>0.00</td>\n",
       "      <td>40000000.00</td>\n",
       "    </tr>\n",
       "    <tr>\n",
       "      <th>351</th>\n",
       "      <td>S-ZORB.FT_1504.DACA.PV</td>\n",
       "      <td>-14000.00</td>\n",
       "      <td>3500.00</td>\n",
       "    </tr>\n",
       "    <tr>\n",
       "      <th>352</th>\n",
       "      <td>S-ZORB.FT_1504.TOTALIZERA.PV</td>\n",
       "      <td>0.00</td>\n",
       "      <td>40000000.00</td>\n",
       "    </tr>\n",
       "    <tr>\n",
       "      <th>353</th>\n",
       "      <td>S-ZORB.PC_1001A.PV</td>\n",
       "      <td>-125.00</td>\n",
       "      <td>0.50</td>\n",
       "    </tr>\n",
       "  </tbody>\n",
       "</table>\n",
       "<p>354 rows × 3 columns</p>\n",
       "</div>"
      ],
      "text/plain": [
       "                               位号       最小值          最大值\n",
       "0                S-ZORB.CAL_H2.PV      0.20         0.37\n",
       "1              S-ZORB.PDI_2102.PV     10.00        35.00\n",
       "2               S-ZORB.PT_2801.PV      2.35         2.70\n",
       "3               S-ZORB.FC_2801.PV    600.00      1000.00\n",
       "4               S-ZORB.TE_2103.PV    410.00       435.00\n",
       "..                            ...       ...          ...\n",
       "349        S-ZORB.FT_1503.DACA.PV     60.00   5500000.00\n",
       "350  S-ZORB.FT_1503.TOTALIZERA.PV      0.00  40000000.00\n",
       "351        S-ZORB.FT_1504.DACA.PV -14000.00      3500.00\n",
       "352  S-ZORB.FT_1504.TOTALIZERA.PV      0.00  40000000.00\n",
       "353            S-ZORB.PC_1001A.PV   -125.00         0.50\n",
       "\n",
       "[354 rows x 3 columns]"
      ]
     },
     "execution_count": 128,
     "metadata": {},
     "output_type": "execute_result"
    }
   ],
   "source": [
    "new_interval"
   ]
  },
  {
   "cell_type": "code",
   "execution_count": 17,
   "metadata": {},
   "outputs": [],
   "source": [
    "#获取变量的取值范围\n",
    "def get_column_range(column):\n",
    "    index=new_interval['位号'][new_interval['位号']==column].index[0]\n",
    "    maximum=new_interval['最大值'][index]\n",
    "    minimum=new_interval['最小值'][index]\n",
    "    return minimum,maximum  #返回最大最小值\n",
    "#将超出范围的值设置为空\n",
    "for column in sample285.columns:\n",
    "    a,b=get_column_range(column)\n",
    "    sample285[column]=sample285[column].apply(lambda x:np.nan if x<a or x>b else x)\n",
    "for column in sample313.columns:\n",
    "    a,b=get_column_range(column)\n",
    "    sample313[column]=sample313[column].apply(lambda x:np.nan if x<a or x>b else x)"
   ]
  },
  {
   "cell_type": "code",
   "execution_count": 44,
   "metadata": {},
   "outputs": [],
   "source": [
    "#将不在3sigma以内的设置为空\n",
    "def three_sigma(df):\n",
    "    mean=df.mean()\n",
    "    std=df.std()\n",
    "    df=df.apply(lambda x :np.nan if x<mean-3*std or x>mean+3*std else x)\n",
    "for column in sample285.columns:\n",
    "    three_sigma(sample285[column])\n",
    "for column in sample313.columns:\n",
    "    three_sigma(sample313[column])"
   ]
  },
  {
   "cell_type": "code",
   "execution_count": 47,
   "metadata": {},
   "outputs": [
    {
     "data": {
      "text/plain": [
       "S-ZORB.SIS_LT_1001.PV    40\n",
       "S-ZORB.AI_2903.PV        40\n",
       "S-ZORB.FT_1202.TOTAL     40\n",
       "S-ZORB.FT_1204.TOTAL     40\n",
       "dtype: int64"
      ]
     },
     "execution_count": 47,
     "metadata": {},
     "output_type": "execute_result"
    }
   ],
   "source": [
    "#查看缺失值\n",
    "sample285.isnull().sum()[sample285.isnull().sum()>0]"
   ]
  },
  {
   "cell_type": "code",
   "execution_count": 48,
   "metadata": {},
   "outputs": [
    {
     "data": {
      "text/plain": [
       "S-ZORB.AT_5201.PV          39\n",
       "S-ZORB.PT_9403.PV           3\n",
       "S-ZORB.FT_9402.PV           1\n",
       "S-ZORB.PDC_2502.PV         20\n",
       "S-ZORB.FC_2501.PV           4\n",
       "S-ZORB.SIS_LT_1001.PV      40\n",
       "S-ZORB.PC_6001.PV           2\n",
       "S-ZORB.PT_6002.PV           5\n",
       "S-ZORB.AI_2903.PV          40\n",
       "S-ZORB.PDC_2607.PV          2\n",
       "S-ZORB.FT_1202.TOTAL       40\n",
       "S-ZORB.FT_1204.PV           2\n",
       "S-ZORB.FT_1204.TOTAL       40\n",
       "S-ZORB.PC_3101.DACA         1\n",
       "S-ZORB.PT_2501.DACA         8\n",
       "S-ZORB.PT_2502.DACA        10\n",
       "S-ZORB.FC_2432.DACA         6\n",
       "S-ZORB.FT_2431.DACA         8\n",
       "S-ZORB.PDI_2801.DACA        3\n",
       "S-ZORB.PDI_2301.DACA        3\n",
       "S-ZORB.BS_LT_2401.PV       14\n",
       "S-ZORB.PC_2401.DACA         4\n",
       "S-ZORB.PC_2401B.DACA        3\n",
       "S-ZORB.PC_2401B.PIDA.SP     3\n",
       "S-ZORB.PC_2401B.PIDA.OP     4\n",
       "S-ZORB.PC_2401.PIDA.OP      7\n",
       "S-ZORB.PC_2401.PIDA.SP      6\n",
       "S-ZORB.PDT_2409.DACA        2\n",
       "S-ZORB.TE_1603.DACA         9\n",
       "S-ZORB.AT-0006.DACA.PV      7\n",
       "S-ZORB.AT-0012.DACA.PV      3\n",
       "dtype: int64"
      ]
     },
     "execution_count": 48,
     "metadata": {},
     "output_type": "execute_result"
    }
   ],
   "source": [
    "sample313.isnull().sum()[sample313.isnull().sum()>0]"
   ]
  },
  {
   "cell_type": "code",
   "execution_count": 54,
   "metadata": {},
   "outputs": [
    {
     "data": {
      "text/plain": [
       "S-ZORB.AT_5201.PV        0.975\n",
       "S-ZORB.SIS_LT_1001.PV    1.000\n",
       "S-ZORB.AI_2903.PV        1.000\n",
       "S-ZORB.FT_1202.TOTAL     1.000\n",
       "S-ZORB.FT_1204.TOTAL     1.000\n",
       "dtype: float64"
      ]
     },
     "execution_count": 54,
     "metadata": {},
     "output_type": "execute_result"
    }
   ],
   "source": [
    "#将313号样本缺失比例大于80%的设置为空\n",
    "null=(sample313.isnull().sum()[sample313.isnull().sum()>0]/len(sample313))[sample313.isnull().sum()[sample313.isnull().sum()>0]/len(sample313)>0.8]\n",
    "null"
   ]
  },
  {
   "cell_type": "code",
   "execution_count": 55,
   "metadata": {},
   "outputs": [],
   "source": [
    "for i in null.index:\n",
    "    sample313[i]=np.nan"
   ]
  },
  {
   "cell_type": "code",
   "execution_count": 75,
   "metadata": {},
   "outputs": [
    {
     "data": {
      "text/plain": [
       "S-ZORB.AT_5201.PV        1.0\n",
       "S-ZORB.SIS_LT_1001.PV    1.0\n",
       "S-ZORB.AI_2903.PV        1.0\n",
       "S-ZORB.FT_1202.TOTAL     1.0\n",
       "S-ZORB.FT_1204.TOTAL     1.0\n",
       "dtype: float64"
      ]
     },
     "execution_count": 75,
     "metadata": {},
     "output_type": "execute_result"
    }
   ],
   "source": [
    "#填补缺失值\n",
    "for i in sample313.columns:\n",
    "    sample313[i]=sample313[i].fillna(sample313[i].mean())\n",
    "#查看缺失值比例\n",
    "sample313.isnull().sum()[sample313.isnull().sum()>0]/40"
   ]
  },
  {
   "cell_type": "code",
   "execution_count": 76,
   "metadata": {},
   "outputs": [
    {
     "data": {
      "text/plain": [
       "S-ZORB.SIS_LT_1001.PV    1.0\n",
       "S-ZORB.AI_2903.PV        1.0\n",
       "S-ZORB.FT_1202.TOTAL     1.0\n",
       "S-ZORB.FT_1204.TOTAL     1.0\n",
       "dtype: float64"
      ]
     },
     "execution_count": 76,
     "metadata": {},
     "output_type": "execute_result"
    }
   ],
   "source": [
    "sample285.isnull().sum()[sample285.isnull().sum()>0]/40"
   ]
  },
  {
   "cell_type": "code",
   "execution_count": 88,
   "metadata": {},
   "outputs": [],
   "source": [
    "result_of_285=pd.DataFrame(sample285.describe().iloc[1,:]).T\n",
    "result_of_313=pd.DataFrame(sample313.describe().iloc[1,:]).T"
   ]
  },
  {
   "cell_type": "code",
   "execution_count": 92,
   "metadata": {},
   "outputs": [
    {
     "data": {
      "text/plain": [
       "S-ZORB.SIS_LT_1001.PV    1\n",
       "S-ZORB.AI_2903.PV        1\n",
       "S-ZORB.FT_1202.TOTAL     1\n",
       "S-ZORB.FT_1204.TOTAL     1\n",
       "dtype: int64"
      ]
     },
     "execution_count": 92,
     "metadata": {},
     "output_type": "execute_result"
    }
   ],
   "source": [
    "result_of_285.isnull().sum()[result_of_285.isnull().sum()>0]"
   ]
  },
  {
   "cell_type": "code",
   "execution_count": 93,
   "metadata": {},
   "outputs": [
    {
     "data": {
      "text/plain": [
       "S-ZORB.AT_5201.PV        1\n",
       "S-ZORB.SIS_LT_1001.PV    1\n",
       "S-ZORB.AI_2903.PV        1\n",
       "S-ZORB.FT_1202.TOTAL     1\n",
       "S-ZORB.FT_1204.TOTAL     1\n",
       "dtype: int64"
      ]
     },
     "execution_count": 93,
     "metadata": {},
     "output_type": "execute_result"
    }
   ],
   "source": [
    "result_of_313.isnull().sum()[result_of_313.isnull().sum()>0]"
   ]
  },
  {
   "cell_type": "code",
   "execution_count": 111,
   "metadata": {},
   "outputs": [],
   "source": [
    "fina=pd.concat([result_of_285,result_of_313])\n",
    "fina.index=[285,313]"
   ]
  },
  {
   "cell_type": "code",
   "execution_count": 122,
   "metadata": {},
   "outputs": [],
   "source": [
    "fina.to_excel('第一问结果.xlsx',na_rep='Nan')"
   ]
  },
  {
   "cell_type": "code",
   "execution_count": 119,
   "metadata": {},
   "outputs": [
    {
     "data": {
      "text/plain": [
       "S-ZORB.AT_5201.PV        1\n",
       "S-ZORB.SIS_LT_1001.PV    2\n",
       "S-ZORB.AI_2903.PV        2\n",
       "S-ZORB.FT_1202.TOTAL     2\n",
       "S-ZORB.FT_1204.TOTAL     2\n",
       "dtype: int64"
      ]
     },
     "execution_count": 119,
     "metadata": {},
     "output_type": "execute_result"
    }
   ],
   "source": [
    "fina.isna().sum()[fina.isna().sum()>0]"
   ]
  },
  {
   "cell_type": "code",
   "execution_count": 127,
   "metadata": {},
   "outputs": [
    {
     "data": {
      "text/html": [
       "<div>\n",
       "<style scoped>\n",
       "    .dataframe tbody tr th:only-of-type {\n",
       "        vertical-align: middle;\n",
       "    }\n",
       "\n",
       "    .dataframe tbody tr th {\n",
       "        vertical-align: top;\n",
       "    }\n",
       "\n",
       "    .dataframe thead th {\n",
       "        text-align: right;\n",
       "    }\n",
       "</style>\n",
       "<table border=\"1\" class=\"dataframe\">\n",
       "  <thead>\n",
       "    <tr style=\"text-align: right;\">\n",
       "      <th></th>\n",
       "      <th>S-ZORB.CAL_H2.PV</th>\n",
       "      <th>S-ZORB.PDI_2102.PV</th>\n",
       "      <th>S-ZORB.PT_2801.PV</th>\n",
       "      <th>S-ZORB.FC_2801.PV</th>\n",
       "      <th>S-ZORB.TE_2103.PV</th>\n",
       "      <th>S-ZORB.TE_2005.PV</th>\n",
       "      <th>S-ZORB.PT_2101.PV</th>\n",
       "      <th>S-ZORB.PDT_2104.PV</th>\n",
       "      <th>S-ZORB.SIS_PDT_2103B.PV</th>\n",
       "      <th>S-ZORB.TC_2101.PV</th>\n",
       "      <th>...</th>\n",
       "      <th>S-ZORB.CAL_1.CANGLIANG.PV</th>\n",
       "      <th>S-ZORB.FT_1006.DACA.PV</th>\n",
       "      <th>S-ZORB.FT_5204.DACA.PV</th>\n",
       "      <th>S-ZORB.FT_1006.TOTALIZERA.PV</th>\n",
       "      <th>S-ZORB.FT_5204.TOTALIZERA.PV</th>\n",
       "      <th>S-ZORB.FT_1503.DACA.PV</th>\n",
       "      <th>S-ZORB.FT_1503.TOTALIZERA.PV</th>\n",
       "      <th>S-ZORB.FT_1504.DACA.PV</th>\n",
       "      <th>S-ZORB.FT_1504.TOTALIZERA.PV</th>\n",
       "      <th>S-ZORB.PC_1001A.PV</th>\n",
       "    </tr>\n",
       "  </thead>\n",
       "  <tbody>\n",
       "    <tr>\n",
       "      <th>285</th>\n",
       "      <td>0.273399</td>\n",
       "      <td>24.208241</td>\n",
       "      <td>2.528870</td>\n",
       "      <td>855.882523</td>\n",
       "      <td>421.509325</td>\n",
       "      <td>421.196235</td>\n",
       "      <td>2.427093</td>\n",
       "      <td>59.703011</td>\n",
       "      <td>1108.285375</td>\n",
       "      <td>244.121748</td>\n",
       "      <td>...</td>\n",
       "      <td>2.358559</td>\n",
       "      <td>3321.583200</td>\n",
       "      <td>190.694200</td>\n",
       "      <td>98944916.75</td>\n",
       "      <td>2433448.000</td>\n",
       "      <td>2200.789100</td>\n",
       "      <td>5149259.0</td>\n",
       "      <td>2846.896600</td>\n",
       "      <td>5984749.325</td>\n",
       "      <td>-97.210697</td>\n",
       "    </tr>\n",
       "    <tr>\n",
       "      <th>313</th>\n",
       "      <td>0.261936</td>\n",
       "      <td>17.183467</td>\n",
       "      <td>2.417056</td>\n",
       "      <td>850.300855</td>\n",
       "      <td>424.968595</td>\n",
       "      <td>424.522167</td>\n",
       "      <td>2.315898</td>\n",
       "      <td>61.701366</td>\n",
       "      <td>1250.692900</td>\n",
       "      <td>245.333915</td>\n",
       "      <td>...</td>\n",
       "      <td>2.894837</td>\n",
       "      <td>10013.864775</td>\n",
       "      <td>147.165737</td>\n",
       "      <td>87939278.25</td>\n",
       "      <td>2205865.275</td>\n",
       "      <td>1943.691157</td>\n",
       "      <td>2149491.8</td>\n",
       "      <td>2501.854175</td>\n",
       "      <td>2154163.850</td>\n",
       "      <td>-113.375918</td>\n",
       "    </tr>\n",
       "  </tbody>\n",
       "</table>\n",
       "<p>2 rows × 354 columns</p>\n",
       "</div>"
      ],
      "text/plain": [
       "     S-ZORB.CAL_H2.PV  S-ZORB.PDI_2102.PV  S-ZORB.PT_2801.PV  \\\n",
       "285          0.273399           24.208241           2.528870   \n",
       "313          0.261936           17.183467           2.417056   \n",
       "\n",
       "     S-ZORB.FC_2801.PV  S-ZORB.TE_2103.PV  S-ZORB.TE_2005.PV  \\\n",
       "285         855.882523         421.509325         421.196235   \n",
       "313         850.300855         424.968595         424.522167   \n",
       "\n",
       "     S-ZORB.PT_2101.PV  S-ZORB.PDT_2104.PV  S-ZORB.SIS_PDT_2103B.PV  \\\n",
       "285           2.427093           59.703011              1108.285375   \n",
       "313           2.315898           61.701366              1250.692900   \n",
       "\n",
       "     S-ZORB.TC_2101.PV  ...  S-ZORB.CAL_1.CANGLIANG.PV  \\\n",
       "285         244.121748  ...                   2.358559   \n",
       "313         245.333915  ...                   2.894837   \n",
       "\n",
       "     S-ZORB.FT_1006.DACA.PV  S-ZORB.FT_5204.DACA.PV  \\\n",
       "285             3321.583200              190.694200   \n",
       "313            10013.864775              147.165737   \n",
       "\n",
       "     S-ZORB.FT_1006.TOTALIZERA.PV  S-ZORB.FT_5204.TOTALIZERA.PV  \\\n",
       "285                   98944916.75                   2433448.000   \n",
       "313                   87939278.25                   2205865.275   \n",
       "\n",
       "     S-ZORB.FT_1503.DACA.PV  S-ZORB.FT_1503.TOTALIZERA.PV  \\\n",
       "285             2200.789100                     5149259.0   \n",
       "313             1943.691157                     2149491.8   \n",
       "\n",
       "     S-ZORB.FT_1504.DACA.PV  S-ZORB.FT_1504.TOTALIZERA.PV  S-ZORB.PC_1001A.PV  \n",
       "285             2846.896600                   5984749.325          -97.210697  \n",
       "313             2501.854175                   2154163.850         -113.375918  \n",
       "\n",
       "[2 rows x 354 columns]"
      ]
     },
     "execution_count": 127,
     "metadata": {},
     "output_type": "execute_result"
    }
   ],
   "source": [
    "fina"
   ]
  },
  {
   "cell_type": "code",
   "execution_count": null,
   "metadata": {},
   "outputs": [],
   "source": []
  }
 ],
 "metadata": {
  "kernelspec": {
   "display_name": "Python 3",
   "language": "python",
   "name": "python3"
  },
  "language_info": {
   "codemirror_mode": {
    "name": "ipython",
    "version": 3
   },
   "file_extension": ".py",
   "mimetype": "text/x-python",
   "name": "python",
   "nbconvert_exporter": "python",
   "pygments_lexer": "ipython3",
   "version": "3.8.3"
  }
 },
 "nbformat": 4,
 "nbformat_minor": 4
}
